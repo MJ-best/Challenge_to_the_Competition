{
  "nbformat": 4,
  "nbformat_minor": 0,
  "metadata": {
    "colab": {
      "provenance": [],
      "collapsed_sections": [
        "uQqaC2y-8oVT",
        "vg20qkLyZh1L"
      ],
      "mount_file_id": "1I-EFRZRIWhprjoKpiRrditNY834mPwpG",
      "authorship_tag": "ABX9TyNLSHHJu/laZjW2ph7empso",
      "include_colab_link": true
    },
    "kernelspec": {
      "name": "python3",
      "display_name": "Python 3"
    },
    "language_info": {
      "name": "python"
    }
  },
  "cells": [
    {
      "cell_type": "markdown",
      "metadata": {
        "id": "view-in-github",
        "colab_type": "text"
      },
      "source": [
        "<a href=\"https://colab.research.google.com/github/MJ-best/Challenge_to_the_Competition/blob/main/%5BDACON%5DGenome_Info_clf_AI_20220116.ipynb\" target=\"_parent\"><img src=\"https://colab.research.google.com/assets/colab-badge.svg\" alt=\"Open In Colab\"/></a>"
      ]
    },
    {
      "cell_type": "markdown",
      "source": [
        "# [DACON] 유전체 정보 품종 분류 AI 경진대회\n",
        "- https://dacon.io/competitions/official/236035/overview/description\n",
        "- 개체와 SNP 정보를 이용하여 품종 분류 AI 모델 개발\n",
        "- 유전체 염기서열에서 획득한 유전체 변이 정보인 Single Nucleotide Polymorphism 정보는 특정 개체 및 특정 품종에 따라 다른 변이 양상을 나타낼 수 있기 때문에 동일개체를 확인하거나, 동일 품종을 구분하는데 활용이 가능합니다. 따라서 이번 경진대회에서는 개체 정보와 SNP 정보를 이용하여 A, B, C 품종을 분류하는 최고의 품종구분 정확도를 획득하는 것이 목표입니다.\n",
        "\n",
        "- 농축수산 현장에서는 유전체 변이정보를 이용해서 품종을 구분하는 연구를 통해 품종의 다양성 혹은 품종 부정유통을 방지하기 위해 많이 활용하게 됩니다.\n",
        "\n",
        "- SNP란 DNA 내 A, T, G, C와 같은 염기서열의 차이로서 개체 간 염기서열의 차이 정도를 파악하여 분자적인 수준에서의 명확한 품종 조성 확인을 가능케 한다\n",
        "\n",
        "- 많은 SNP 정보를 통해 분류하는 것보다, 보다 **더 적은 SNP 정보로 높은 분류 성능**을 내는 것이 중요합니다.\n",
        "\n",
        "- 따라서 이번 경진대회에서는 개체 정보와 사전에 구성된 **15개의 SNP 정보를 바탕으로 품종 분류 모델을 개발**해야 합니다.\n",
        "\n"
      ],
      "metadata": {
        "id": "XDy8Z9HfBu3B"
      }
    },
    {
      "cell_type": "code",
      "source": [
        "import datetime\n",
        "from pytz import timezone\n",
        "\n",
        "print(\"last update : \",datetime.datetime.now(timezone('Asia/Seoul')))"
      ],
      "metadata": {
        "colab": {
          "base_uri": "https://localhost:8080/"
        },
        "id": "DO_qtemjB-o9",
        "outputId": "2e9c0085-0d76-4b58-d1c5-4fbeec14b531"
      },
      "execution_count": null,
      "outputs": [
        {
          "output_type": "stream",
          "name": "stdout",
          "text": [
            "last update :  2023-01-16 23:52:40.866249+09:00\n"
          ]
        }
      ]
    },
    {
      "cell_type": "code",
      "execution_count": null,
      "metadata": {
        "id": "hrzsvg4MAJ7w"
      },
      "outputs": [],
      "source": [
        "import io\n",
        "import os\n",
        "import numpy as np\n",
        "import pandas as pd\n",
        "import math\n",
        "import matplotlib.pyplot as plt\n",
        "\n",
        "from sklearn import preprocessing\n",
        "\n",
        "from sklearn.tree import DecisionTreeClassifier\n",
        "from sklearn.ensemble import RandomForestClassifier\n",
        "from sklearn.linear_model import LogisticRegression\n",
        "\n",
        "from sklearn.model_selection import train_test_split\n",
        "from sklearn.metrics import accuracy_score, precision_score, recall_score, confusion_matrix, f1_score\n",
        "from sklearn.model_selection import GridSearchCV, cross_val_score, cross_validate\n",
        "\n",
        "import tensorflow as tf"
      ]
    },
    {
      "cell_type": "markdown",
      "source": [
        "## 데이터준비"
      ],
      "metadata": {
        "id": "FWyHyZc4ejZN"
      }
    },
    {
      "cell_type": "code",
      "source": [
        "from google.colab import drive\n",
        "drive.mount('/content/drive/')"
      ],
      "metadata": {
        "colab": {
          "base_uri": "https://localhost:8080/"
        },
        "id": "A6a9bGCpA62-",
        "outputId": "2eeea0f9-5900-4b52-c9a7-b5977f5c4628"
      },
      "execution_count": null,
      "outputs": [
        {
          "output_type": "stream",
          "name": "stdout",
          "text": [
            "Drive already mounted at /content/drive/; to attempt to forcibly remount, call drive.mount(\"/content/drive/\", force_remount=True).\n"
          ]
        }
      ]
    },
    {
      "cell_type": "code",
      "source": [
        "path = '/content/drive/MyDrive/Colab Notebooks/[DACON]유전체정보_품좀_분류_AI_경진대회/data'\n",
        "os.chdir(path)\n",
        "df = pd.read_csv(\"train.csv\", encoding='utf-8-sig', error_bad_lines=False)"
      ],
      "metadata": {
        "id": "odhpBGm-BIEo",
        "colab": {
          "base_uri": "https://localhost:8080/"
        },
        "outputId": "71abb895-e483-48c4-e673-4be21bb06261"
      },
      "execution_count": null,
      "outputs": [
        {
          "output_type": "stream",
          "name": "stderr",
          "text": [
            "/usr/local/lib/python3.8/dist-packages/IPython/core/interactiveshell.py:3326: FutureWarning: The error_bad_lines argument has been deprecated and will be removed in a future version.\n",
            "\n",
            "\n",
            "  exec(code_obj, self.user_global_ns, self.user_ns)\n"
          ]
        }
      ]
    },
    {
      "cell_type": "code",
      "source": [
        "df"
      ],
      "metadata": {
        "colab": {
          "base_uri": "https://localhost:8080/",
          "height": 423
        },
        "id": "KpRqSRHbBQnP",
        "outputId": "0549f71f-2255-4890-e8ba-8cad97e9ea50"
      },
      "execution_count": null,
      "outputs": [
        {
          "output_type": "execute_result",
          "data": {
            "text/plain": [
              "            id  father  mother  gender  trait SNP_01 SNP_02 SNP_03 SNP_04  \\\n",
              "0    TRAIN_000       0       0       0      2    G G    A G    A A    G A   \n",
              "1    TRAIN_001       0       0       0      2    A G    A G    C A    A A   \n",
              "2    TRAIN_002       0       0       0      2    G G    G G    A A    G A   \n",
              "3    TRAIN_003       0       0       0      1    A A    G G    A A    G A   \n",
              "4    TRAIN_004       0       0       0      2    G G    G G    C C    A A   \n",
              "..         ...     ...     ...     ...    ...    ...    ...    ...    ...   \n",
              "257  TRAIN_257       0       0       0      2    A G    A G    A A    G A   \n",
              "258  TRAIN_258       0       0       0      2    G G    A A    C A    A A   \n",
              "259  TRAIN_259       0       0       0      1    A G    G G    A A    G A   \n",
              "260  TRAIN_260       0       0       0      1    A A    G G    A A    G A   \n",
              "261  TRAIN_261       0       0       0      2    G G    A G    C A    G G   \n",
              "\n",
              "    SNP_05  ... SNP_07 SNP_08 SNP_09 SNP_10 SNP_11 SNP_12 SNP_13 SNP_14  \\\n",
              "0      C A  ...    A A    G G    A A    G G    A G    A A    A A    A A   \n",
              "1      A A  ...    A A    G A    A A    A G    A A    G A    G G    A A   \n",
              "2      C C  ...    A A    G A    G A    A G    A A    A A    A A    A A   \n",
              "3      A A  ...    G G    A A    G G    A G    G G    G G    G G    A A   \n",
              "4      C C  ...    A A    A A    A A    G G    A A    A A    A G    A A   \n",
              "..     ...  ...    ...    ...    ...    ...    ...    ...    ...    ...   \n",
              "257    C C  ...    A A    G A    A A    G G    A G    G A    A A    A A   \n",
              "258    A A  ...    G A    G A    A A    A G    A G    A A    A G    A A   \n",
              "259    A A  ...    G G    G A    G A    A A    G G    G G    G G    C A   \n",
              "260    A A  ...    G G    A A    G A    A G    A G    G A    G G    C A   \n",
              "261    C C  ...    A A    A A    A A    G G    A A    A A    G G    A A   \n",
              "\n",
              "    SNP_15 class  \n",
              "0      A A     B  \n",
              "1      A A     C  \n",
              "2      A A     B  \n",
              "3      G G     A  \n",
              "4      G A     C  \n",
              "..     ...   ...  \n",
              "257    A A     B  \n",
              "258    G A     C  \n",
              "259    G G     A  \n",
              "260    G G     A  \n",
              "261    G A     B  \n",
              "\n",
              "[262 rows x 21 columns]"
            ],
            "text/html": [
              "\n",
              "  <div id=\"df-8900f2c2-42d8-4201-8564-6e504071fcee\">\n",
              "    <div class=\"colab-df-container\">\n",
              "      <div>\n",
              "<style scoped>\n",
              "    .dataframe tbody tr th:only-of-type {\n",
              "        vertical-align: middle;\n",
              "    }\n",
              "\n",
              "    .dataframe tbody tr th {\n",
              "        vertical-align: top;\n",
              "    }\n",
              "\n",
              "    .dataframe thead th {\n",
              "        text-align: right;\n",
              "    }\n",
              "</style>\n",
              "<table border=\"1\" class=\"dataframe\">\n",
              "  <thead>\n",
              "    <tr style=\"text-align: right;\">\n",
              "      <th></th>\n",
              "      <th>id</th>\n",
              "      <th>father</th>\n",
              "      <th>mother</th>\n",
              "      <th>gender</th>\n",
              "      <th>trait</th>\n",
              "      <th>SNP_01</th>\n",
              "      <th>SNP_02</th>\n",
              "      <th>SNP_03</th>\n",
              "      <th>SNP_04</th>\n",
              "      <th>SNP_05</th>\n",
              "      <th>...</th>\n",
              "      <th>SNP_07</th>\n",
              "      <th>SNP_08</th>\n",
              "      <th>SNP_09</th>\n",
              "      <th>SNP_10</th>\n",
              "      <th>SNP_11</th>\n",
              "      <th>SNP_12</th>\n",
              "      <th>SNP_13</th>\n",
              "      <th>SNP_14</th>\n",
              "      <th>SNP_15</th>\n",
              "      <th>class</th>\n",
              "    </tr>\n",
              "  </thead>\n",
              "  <tbody>\n",
              "    <tr>\n",
              "      <th>0</th>\n",
              "      <td>TRAIN_000</td>\n",
              "      <td>0</td>\n",
              "      <td>0</td>\n",
              "      <td>0</td>\n",
              "      <td>2</td>\n",
              "      <td>G G</td>\n",
              "      <td>A G</td>\n",
              "      <td>A A</td>\n",
              "      <td>G A</td>\n",
              "      <td>C A</td>\n",
              "      <td>...</td>\n",
              "      <td>A A</td>\n",
              "      <td>G G</td>\n",
              "      <td>A A</td>\n",
              "      <td>G G</td>\n",
              "      <td>A G</td>\n",
              "      <td>A A</td>\n",
              "      <td>A A</td>\n",
              "      <td>A A</td>\n",
              "      <td>A A</td>\n",
              "      <td>B</td>\n",
              "    </tr>\n",
              "    <tr>\n",
              "      <th>1</th>\n",
              "      <td>TRAIN_001</td>\n",
              "      <td>0</td>\n",
              "      <td>0</td>\n",
              "      <td>0</td>\n",
              "      <td>2</td>\n",
              "      <td>A G</td>\n",
              "      <td>A G</td>\n",
              "      <td>C A</td>\n",
              "      <td>A A</td>\n",
              "      <td>A A</td>\n",
              "      <td>...</td>\n",
              "      <td>A A</td>\n",
              "      <td>G A</td>\n",
              "      <td>A A</td>\n",
              "      <td>A G</td>\n",
              "      <td>A A</td>\n",
              "      <td>G A</td>\n",
              "      <td>G G</td>\n",
              "      <td>A A</td>\n",
              "      <td>A A</td>\n",
              "      <td>C</td>\n",
              "    </tr>\n",
              "    <tr>\n",
              "      <th>2</th>\n",
              "      <td>TRAIN_002</td>\n",
              "      <td>0</td>\n",
              "      <td>0</td>\n",
              "      <td>0</td>\n",
              "      <td>2</td>\n",
              "      <td>G G</td>\n",
              "      <td>G G</td>\n",
              "      <td>A A</td>\n",
              "      <td>G A</td>\n",
              "      <td>C C</td>\n",
              "      <td>...</td>\n",
              "      <td>A A</td>\n",
              "      <td>G A</td>\n",
              "      <td>G A</td>\n",
              "      <td>A G</td>\n",
              "      <td>A A</td>\n",
              "      <td>A A</td>\n",
              "      <td>A A</td>\n",
              "      <td>A A</td>\n",
              "      <td>A A</td>\n",
              "      <td>B</td>\n",
              "    </tr>\n",
              "    <tr>\n",
              "      <th>3</th>\n",
              "      <td>TRAIN_003</td>\n",
              "      <td>0</td>\n",
              "      <td>0</td>\n",
              "      <td>0</td>\n",
              "      <td>1</td>\n",
              "      <td>A A</td>\n",
              "      <td>G G</td>\n",
              "      <td>A A</td>\n",
              "      <td>G A</td>\n",
              "      <td>A A</td>\n",
              "      <td>...</td>\n",
              "      <td>G G</td>\n",
              "      <td>A A</td>\n",
              "      <td>G G</td>\n",
              "      <td>A G</td>\n",
              "      <td>G G</td>\n",
              "      <td>G G</td>\n",
              "      <td>G G</td>\n",
              "      <td>A A</td>\n",
              "      <td>G G</td>\n",
              "      <td>A</td>\n",
              "    </tr>\n",
              "    <tr>\n",
              "      <th>4</th>\n",
              "      <td>TRAIN_004</td>\n",
              "      <td>0</td>\n",
              "      <td>0</td>\n",
              "      <td>0</td>\n",
              "      <td>2</td>\n",
              "      <td>G G</td>\n",
              "      <td>G G</td>\n",
              "      <td>C C</td>\n",
              "      <td>A A</td>\n",
              "      <td>C C</td>\n",
              "      <td>...</td>\n",
              "      <td>A A</td>\n",
              "      <td>A A</td>\n",
              "      <td>A A</td>\n",
              "      <td>G G</td>\n",
              "      <td>A A</td>\n",
              "      <td>A A</td>\n",
              "      <td>A G</td>\n",
              "      <td>A A</td>\n",
              "      <td>G A</td>\n",
              "      <td>C</td>\n",
              "    </tr>\n",
              "    <tr>\n",
              "      <th>...</th>\n",
              "      <td>...</td>\n",
              "      <td>...</td>\n",
              "      <td>...</td>\n",
              "      <td>...</td>\n",
              "      <td>...</td>\n",
              "      <td>...</td>\n",
              "      <td>...</td>\n",
              "      <td>...</td>\n",
              "      <td>...</td>\n",
              "      <td>...</td>\n",
              "      <td>...</td>\n",
              "      <td>...</td>\n",
              "      <td>...</td>\n",
              "      <td>...</td>\n",
              "      <td>...</td>\n",
              "      <td>...</td>\n",
              "      <td>...</td>\n",
              "      <td>...</td>\n",
              "      <td>...</td>\n",
              "      <td>...</td>\n",
              "      <td>...</td>\n",
              "    </tr>\n",
              "    <tr>\n",
              "      <th>257</th>\n",
              "      <td>TRAIN_257</td>\n",
              "      <td>0</td>\n",
              "      <td>0</td>\n",
              "      <td>0</td>\n",
              "      <td>2</td>\n",
              "      <td>A G</td>\n",
              "      <td>A G</td>\n",
              "      <td>A A</td>\n",
              "      <td>G A</td>\n",
              "      <td>C C</td>\n",
              "      <td>...</td>\n",
              "      <td>A A</td>\n",
              "      <td>G A</td>\n",
              "      <td>A A</td>\n",
              "      <td>G G</td>\n",
              "      <td>A G</td>\n",
              "      <td>G A</td>\n",
              "      <td>A A</td>\n",
              "      <td>A A</td>\n",
              "      <td>A A</td>\n",
              "      <td>B</td>\n",
              "    </tr>\n",
              "    <tr>\n",
              "      <th>258</th>\n",
              "      <td>TRAIN_258</td>\n",
              "      <td>0</td>\n",
              "      <td>0</td>\n",
              "      <td>0</td>\n",
              "      <td>2</td>\n",
              "      <td>G G</td>\n",
              "      <td>A A</td>\n",
              "      <td>C A</td>\n",
              "      <td>A A</td>\n",
              "      <td>A A</td>\n",
              "      <td>...</td>\n",
              "      <td>G A</td>\n",
              "      <td>G A</td>\n",
              "      <td>A A</td>\n",
              "      <td>A G</td>\n",
              "      <td>A G</td>\n",
              "      <td>A A</td>\n",
              "      <td>A G</td>\n",
              "      <td>A A</td>\n",
              "      <td>G A</td>\n",
              "      <td>C</td>\n",
              "    </tr>\n",
              "    <tr>\n",
              "      <th>259</th>\n",
              "      <td>TRAIN_259</td>\n",
              "      <td>0</td>\n",
              "      <td>0</td>\n",
              "      <td>0</td>\n",
              "      <td>1</td>\n",
              "      <td>A G</td>\n",
              "      <td>G G</td>\n",
              "      <td>A A</td>\n",
              "      <td>G A</td>\n",
              "      <td>A A</td>\n",
              "      <td>...</td>\n",
              "      <td>G G</td>\n",
              "      <td>G A</td>\n",
              "      <td>G A</td>\n",
              "      <td>A A</td>\n",
              "      <td>G G</td>\n",
              "      <td>G G</td>\n",
              "      <td>G G</td>\n",
              "      <td>C A</td>\n",
              "      <td>G G</td>\n",
              "      <td>A</td>\n",
              "    </tr>\n",
              "    <tr>\n",
              "      <th>260</th>\n",
              "      <td>TRAIN_260</td>\n",
              "      <td>0</td>\n",
              "      <td>0</td>\n",
              "      <td>0</td>\n",
              "      <td>1</td>\n",
              "      <td>A A</td>\n",
              "      <td>G G</td>\n",
              "      <td>A A</td>\n",
              "      <td>G A</td>\n",
              "      <td>A A</td>\n",
              "      <td>...</td>\n",
              "      <td>G G</td>\n",
              "      <td>A A</td>\n",
              "      <td>G A</td>\n",
              "      <td>A G</td>\n",
              "      <td>A G</td>\n",
              "      <td>G A</td>\n",
              "      <td>G G</td>\n",
              "      <td>C A</td>\n",
              "      <td>G G</td>\n",
              "      <td>A</td>\n",
              "    </tr>\n",
              "    <tr>\n",
              "      <th>261</th>\n",
              "      <td>TRAIN_261</td>\n",
              "      <td>0</td>\n",
              "      <td>0</td>\n",
              "      <td>0</td>\n",
              "      <td>2</td>\n",
              "      <td>G G</td>\n",
              "      <td>A G</td>\n",
              "      <td>C A</td>\n",
              "      <td>G G</td>\n",
              "      <td>C C</td>\n",
              "      <td>...</td>\n",
              "      <td>A A</td>\n",
              "      <td>A A</td>\n",
              "      <td>A A</td>\n",
              "      <td>G G</td>\n",
              "      <td>A A</td>\n",
              "      <td>A A</td>\n",
              "      <td>G G</td>\n",
              "      <td>A A</td>\n",
              "      <td>G A</td>\n",
              "      <td>B</td>\n",
              "    </tr>\n",
              "  </tbody>\n",
              "</table>\n",
              "<p>262 rows × 21 columns</p>\n",
              "</div>\n",
              "      <button class=\"colab-df-convert\" onclick=\"convertToInteractive('df-8900f2c2-42d8-4201-8564-6e504071fcee')\"\n",
              "              title=\"Convert this dataframe to an interactive table.\"\n",
              "              style=\"display:none;\">\n",
              "        \n",
              "  <svg xmlns=\"http://www.w3.org/2000/svg\" height=\"24px\"viewBox=\"0 0 24 24\"\n",
              "       width=\"24px\">\n",
              "    <path d=\"M0 0h24v24H0V0z\" fill=\"none\"/>\n",
              "    <path d=\"M18.56 5.44l.94 2.06.94-2.06 2.06-.94-2.06-.94-.94-2.06-.94 2.06-2.06.94zm-11 1L8.5 8.5l.94-2.06 2.06-.94-2.06-.94L8.5 2.5l-.94 2.06-2.06.94zm10 10l.94 2.06.94-2.06 2.06-.94-2.06-.94-.94-2.06-.94 2.06-2.06.94z\"/><path d=\"M17.41 7.96l-1.37-1.37c-.4-.4-.92-.59-1.43-.59-.52 0-1.04.2-1.43.59L10.3 9.45l-7.72 7.72c-.78.78-.78 2.05 0 2.83L4 21.41c.39.39.9.59 1.41.59.51 0 1.02-.2 1.41-.59l7.78-7.78 2.81-2.81c.8-.78.8-2.07 0-2.86zM5.41 20L4 18.59l7.72-7.72 1.47 1.35L5.41 20z\"/>\n",
              "  </svg>\n",
              "      </button>\n",
              "      \n",
              "  <style>\n",
              "    .colab-df-container {\n",
              "      display:flex;\n",
              "      flex-wrap:wrap;\n",
              "      gap: 12px;\n",
              "    }\n",
              "\n",
              "    .colab-df-convert {\n",
              "      background-color: #E8F0FE;\n",
              "      border: none;\n",
              "      border-radius: 50%;\n",
              "      cursor: pointer;\n",
              "      display: none;\n",
              "      fill: #1967D2;\n",
              "      height: 32px;\n",
              "      padding: 0 0 0 0;\n",
              "      width: 32px;\n",
              "    }\n",
              "\n",
              "    .colab-df-convert:hover {\n",
              "      background-color: #E2EBFA;\n",
              "      box-shadow: 0px 1px 2px rgba(60, 64, 67, 0.3), 0px 1px 3px 1px rgba(60, 64, 67, 0.15);\n",
              "      fill: #174EA6;\n",
              "    }\n",
              "\n",
              "    [theme=dark] .colab-df-convert {\n",
              "      background-color: #3B4455;\n",
              "      fill: #D2E3FC;\n",
              "    }\n",
              "\n",
              "    [theme=dark] .colab-df-convert:hover {\n",
              "      background-color: #434B5C;\n",
              "      box-shadow: 0px 1px 3px 1px rgba(0, 0, 0, 0.15);\n",
              "      filter: drop-shadow(0px 1px 2px rgba(0, 0, 0, 0.3));\n",
              "      fill: #FFFFFF;\n",
              "    }\n",
              "  </style>\n",
              "\n",
              "      <script>\n",
              "        const buttonEl =\n",
              "          document.querySelector('#df-8900f2c2-42d8-4201-8564-6e504071fcee button.colab-df-convert');\n",
              "        buttonEl.style.display =\n",
              "          google.colab.kernel.accessAllowed ? 'block' : 'none';\n",
              "\n",
              "        async function convertToInteractive(key) {\n",
              "          const element = document.querySelector('#df-8900f2c2-42d8-4201-8564-6e504071fcee');\n",
              "          const dataTable =\n",
              "            await google.colab.kernel.invokeFunction('convertToInteractive',\n",
              "                                                     [key], {});\n",
              "          if (!dataTable) return;\n",
              "\n",
              "          const docLinkHtml = 'Like what you see? Visit the ' +\n",
              "            '<a target=\"_blank\" href=https://colab.research.google.com/notebooks/data_table.ipynb>data table notebook</a>'\n",
              "            + ' to learn more about interactive tables.';\n",
              "          element.innerHTML = '';\n",
              "          dataTable['output_type'] = 'display_data';\n",
              "          await google.colab.output.renderOutput(dataTable, element);\n",
              "          const docLink = document.createElement('div');\n",
              "          docLink.innerHTML = docLinkHtml;\n",
              "          element.appendChild(docLink);\n",
              "        }\n",
              "      </script>\n",
              "    </div>\n",
              "  </div>\n",
              "  "
            ]
          },
          "metadata": {},
          "execution_count": 6
        }
      ]
    },
    {
      "cell_type": "code",
      "source": [
        "data = df.drop(['id', 'father', 'mother', 'gender', 'trait','class'], axis = 1)"
      ],
      "metadata": {
        "id": "EtshWf1FDfqK"
      },
      "execution_count": null,
      "outputs": []
    },
    {
      "cell_type": "code",
      "source": [
        "target = df['class']"
      ],
      "metadata": {
        "id": "xKDwIM3HBiLd"
      },
      "execution_count": null,
      "outputs": []
    },
    {
      "cell_type": "code",
      "source": [
        "info = pd.read_csv(\"snp_info.csv\", encoding='utf-8-sig', error_bad_lines=False)"
      ],
      "metadata": {
        "colab": {
          "base_uri": "https://localhost:8080/"
        },
        "id": "XPt0q106EpUJ",
        "outputId": "6d1d5350-6151-4148-cbe0-4902f136ef4e"
      },
      "execution_count": null,
      "outputs": [
        {
          "output_type": "stream",
          "name": "stderr",
          "text": [
            "/usr/local/lib/python3.8/dist-packages/IPython/core/interactiveshell.py:3326: FutureWarning: The error_bad_lines argument has been deprecated and will be removed in a future version.\n",
            "\n",
            "\n",
            "  exec(code_obj, self.user_global_ns, self.user_ns)\n"
          ]
        }
      ]
    },
    {
      "cell_type": "code",
      "source": [
        "info"
      ],
      "metadata": {
        "colab": {
          "base_uri": "https://localhost:8080/",
          "height": 519
        },
        "id": "GApJDPTnFRA0",
        "outputId": "178fbc8f-acbe-48da-af84-84fcc75c31d5"
      },
      "execution_count": null,
      "outputs": [
        {
          "output_type": "execute_result",
          "data": {
            "text/plain": [
              "    SNP_id                                   name  chrom        cm       pos\n",
              "0   SNP_01                        BTA-19852-no-rs      2  67.05460  42986890\n",
              "1   SNP_02  ARS-USMARC-Parent-DQ647190-rs29013632      6  31.15670  13897068\n",
              "2   SNP_03                    ARS-BFGL-NGS-117009      6  68.28920  44649549\n",
              "3   SNP_04                     ARS-BFGL-NGS-60567      6  77.87490  53826064\n",
              "4   SNP_05                     BovineHD0600017032      6  80.50150  61779512\n",
              "5   SNP_06                     BovineHD0600017424      6  80.59540  63048481\n",
              "6   SNP_07                 Hapmap49442-BTA-111073      6  80.78000  64037334\n",
              "7   SNP_08                     BovineHD0600018638      6  82.68560  67510588\n",
              "8   SNP_09                     ARS-BFGL-NGS-37727      6  86.87400  73092782\n",
              "9   SNP_10                           BTB-01558306      7  62.06920  40827112\n",
              "10  SNP_11                     ARS-BFGL-NGS-44247      8  97.17310  92485682\n",
              "11  SNP_12                 Hapmap32827-BTA-146530      9  62.74630  55007839\n",
              "12  SNP_13                           BTB-00395482      9  63.41810  59692848\n",
              "13  SNP_14                  Hapmap40256-BTA-84189      9  66.81970  72822507\n",
              "14  SNP_15                     BovineHD1000000224     10   1.78774    814291"
            ],
            "text/html": [
              "\n",
              "  <div id=\"df-83e687ac-d9d9-42c4-98b6-9ee2f81879b4\">\n",
              "    <div class=\"colab-df-container\">\n",
              "      <div>\n",
              "<style scoped>\n",
              "    .dataframe tbody tr th:only-of-type {\n",
              "        vertical-align: middle;\n",
              "    }\n",
              "\n",
              "    .dataframe tbody tr th {\n",
              "        vertical-align: top;\n",
              "    }\n",
              "\n",
              "    .dataframe thead th {\n",
              "        text-align: right;\n",
              "    }\n",
              "</style>\n",
              "<table border=\"1\" class=\"dataframe\">\n",
              "  <thead>\n",
              "    <tr style=\"text-align: right;\">\n",
              "      <th></th>\n",
              "      <th>SNP_id</th>\n",
              "      <th>name</th>\n",
              "      <th>chrom</th>\n",
              "      <th>cm</th>\n",
              "      <th>pos</th>\n",
              "    </tr>\n",
              "  </thead>\n",
              "  <tbody>\n",
              "    <tr>\n",
              "      <th>0</th>\n",
              "      <td>SNP_01</td>\n",
              "      <td>BTA-19852-no-rs</td>\n",
              "      <td>2</td>\n",
              "      <td>67.05460</td>\n",
              "      <td>42986890</td>\n",
              "    </tr>\n",
              "    <tr>\n",
              "      <th>1</th>\n",
              "      <td>SNP_02</td>\n",
              "      <td>ARS-USMARC-Parent-DQ647190-rs29013632</td>\n",
              "      <td>6</td>\n",
              "      <td>31.15670</td>\n",
              "      <td>13897068</td>\n",
              "    </tr>\n",
              "    <tr>\n",
              "      <th>2</th>\n",
              "      <td>SNP_03</td>\n",
              "      <td>ARS-BFGL-NGS-117009</td>\n",
              "      <td>6</td>\n",
              "      <td>68.28920</td>\n",
              "      <td>44649549</td>\n",
              "    </tr>\n",
              "    <tr>\n",
              "      <th>3</th>\n",
              "      <td>SNP_04</td>\n",
              "      <td>ARS-BFGL-NGS-60567</td>\n",
              "      <td>6</td>\n",
              "      <td>77.87490</td>\n",
              "      <td>53826064</td>\n",
              "    </tr>\n",
              "    <tr>\n",
              "      <th>4</th>\n",
              "      <td>SNP_05</td>\n",
              "      <td>BovineHD0600017032</td>\n",
              "      <td>6</td>\n",
              "      <td>80.50150</td>\n",
              "      <td>61779512</td>\n",
              "    </tr>\n",
              "    <tr>\n",
              "      <th>5</th>\n",
              "      <td>SNP_06</td>\n",
              "      <td>BovineHD0600017424</td>\n",
              "      <td>6</td>\n",
              "      <td>80.59540</td>\n",
              "      <td>63048481</td>\n",
              "    </tr>\n",
              "    <tr>\n",
              "      <th>6</th>\n",
              "      <td>SNP_07</td>\n",
              "      <td>Hapmap49442-BTA-111073</td>\n",
              "      <td>6</td>\n",
              "      <td>80.78000</td>\n",
              "      <td>64037334</td>\n",
              "    </tr>\n",
              "    <tr>\n",
              "      <th>7</th>\n",
              "      <td>SNP_08</td>\n",
              "      <td>BovineHD0600018638</td>\n",
              "      <td>6</td>\n",
              "      <td>82.68560</td>\n",
              "      <td>67510588</td>\n",
              "    </tr>\n",
              "    <tr>\n",
              "      <th>8</th>\n",
              "      <td>SNP_09</td>\n",
              "      <td>ARS-BFGL-NGS-37727</td>\n",
              "      <td>6</td>\n",
              "      <td>86.87400</td>\n",
              "      <td>73092782</td>\n",
              "    </tr>\n",
              "    <tr>\n",
              "      <th>9</th>\n",
              "      <td>SNP_10</td>\n",
              "      <td>BTB-01558306</td>\n",
              "      <td>7</td>\n",
              "      <td>62.06920</td>\n",
              "      <td>40827112</td>\n",
              "    </tr>\n",
              "    <tr>\n",
              "      <th>10</th>\n",
              "      <td>SNP_11</td>\n",
              "      <td>ARS-BFGL-NGS-44247</td>\n",
              "      <td>8</td>\n",
              "      <td>97.17310</td>\n",
              "      <td>92485682</td>\n",
              "    </tr>\n",
              "    <tr>\n",
              "      <th>11</th>\n",
              "      <td>SNP_12</td>\n",
              "      <td>Hapmap32827-BTA-146530</td>\n",
              "      <td>9</td>\n",
              "      <td>62.74630</td>\n",
              "      <td>55007839</td>\n",
              "    </tr>\n",
              "    <tr>\n",
              "      <th>12</th>\n",
              "      <td>SNP_13</td>\n",
              "      <td>BTB-00395482</td>\n",
              "      <td>9</td>\n",
              "      <td>63.41810</td>\n",
              "      <td>59692848</td>\n",
              "    </tr>\n",
              "    <tr>\n",
              "      <th>13</th>\n",
              "      <td>SNP_14</td>\n",
              "      <td>Hapmap40256-BTA-84189</td>\n",
              "      <td>9</td>\n",
              "      <td>66.81970</td>\n",
              "      <td>72822507</td>\n",
              "    </tr>\n",
              "    <tr>\n",
              "      <th>14</th>\n",
              "      <td>SNP_15</td>\n",
              "      <td>BovineHD1000000224</td>\n",
              "      <td>10</td>\n",
              "      <td>1.78774</td>\n",
              "      <td>814291</td>\n",
              "    </tr>\n",
              "  </tbody>\n",
              "</table>\n",
              "</div>\n",
              "      <button class=\"colab-df-convert\" onclick=\"convertToInteractive('df-83e687ac-d9d9-42c4-98b6-9ee2f81879b4')\"\n",
              "              title=\"Convert this dataframe to an interactive table.\"\n",
              "              style=\"display:none;\">\n",
              "        \n",
              "  <svg xmlns=\"http://www.w3.org/2000/svg\" height=\"24px\"viewBox=\"0 0 24 24\"\n",
              "       width=\"24px\">\n",
              "    <path d=\"M0 0h24v24H0V0z\" fill=\"none\"/>\n",
              "    <path d=\"M18.56 5.44l.94 2.06.94-2.06 2.06-.94-2.06-.94-.94-2.06-.94 2.06-2.06.94zm-11 1L8.5 8.5l.94-2.06 2.06-.94-2.06-.94L8.5 2.5l-.94 2.06-2.06.94zm10 10l.94 2.06.94-2.06 2.06-.94-2.06-.94-.94-2.06-.94 2.06-2.06.94z\"/><path d=\"M17.41 7.96l-1.37-1.37c-.4-.4-.92-.59-1.43-.59-.52 0-1.04.2-1.43.59L10.3 9.45l-7.72 7.72c-.78.78-.78 2.05 0 2.83L4 21.41c.39.39.9.59 1.41.59.51 0 1.02-.2 1.41-.59l7.78-7.78 2.81-2.81c.8-.78.8-2.07 0-2.86zM5.41 20L4 18.59l7.72-7.72 1.47 1.35L5.41 20z\"/>\n",
              "  </svg>\n",
              "      </button>\n",
              "      \n",
              "  <style>\n",
              "    .colab-df-container {\n",
              "      display:flex;\n",
              "      flex-wrap:wrap;\n",
              "      gap: 12px;\n",
              "    }\n",
              "\n",
              "    .colab-df-convert {\n",
              "      background-color: #E8F0FE;\n",
              "      border: none;\n",
              "      border-radius: 50%;\n",
              "      cursor: pointer;\n",
              "      display: none;\n",
              "      fill: #1967D2;\n",
              "      height: 32px;\n",
              "      padding: 0 0 0 0;\n",
              "      width: 32px;\n",
              "    }\n",
              "\n",
              "    .colab-df-convert:hover {\n",
              "      background-color: #E2EBFA;\n",
              "      box-shadow: 0px 1px 2px rgba(60, 64, 67, 0.3), 0px 1px 3px 1px rgba(60, 64, 67, 0.15);\n",
              "      fill: #174EA6;\n",
              "    }\n",
              "\n",
              "    [theme=dark] .colab-df-convert {\n",
              "      background-color: #3B4455;\n",
              "      fill: #D2E3FC;\n",
              "    }\n",
              "\n",
              "    [theme=dark] .colab-df-convert:hover {\n",
              "      background-color: #434B5C;\n",
              "      box-shadow: 0px 1px 3px 1px rgba(0, 0, 0, 0.15);\n",
              "      filter: drop-shadow(0px 1px 2px rgba(0, 0, 0, 0.3));\n",
              "      fill: #FFFFFF;\n",
              "    }\n",
              "  </style>\n",
              "\n",
              "      <script>\n",
              "        const buttonEl =\n",
              "          document.querySelector('#df-83e687ac-d9d9-42c4-98b6-9ee2f81879b4 button.colab-df-convert');\n",
              "        buttonEl.style.display =\n",
              "          google.colab.kernel.accessAllowed ? 'block' : 'none';\n",
              "\n",
              "        async function convertToInteractive(key) {\n",
              "          const element = document.querySelector('#df-83e687ac-d9d9-42c4-98b6-9ee2f81879b4');\n",
              "          const dataTable =\n",
              "            await google.colab.kernel.invokeFunction('convertToInteractive',\n",
              "                                                     [key], {});\n",
              "          if (!dataTable) return;\n",
              "\n",
              "          const docLinkHtml = 'Like what you see? Visit the ' +\n",
              "            '<a target=\"_blank\" href=https://colab.research.google.com/notebooks/data_table.ipynb>data table notebook</a>'\n",
              "            + ' to learn more about interactive tables.';\n",
              "          element.innerHTML = '';\n",
              "          dataTable['output_type'] = 'display_data';\n",
              "          await google.colab.output.renderOutput(dataTable, element);\n",
              "          const docLink = document.createElement('div');\n",
              "          docLink.innerHTML = docLinkHtml;\n",
              "          element.appendChild(docLink);\n",
              "        }\n",
              "      </script>\n",
              "    </div>\n",
              "  </div>\n",
              "  "
            ]
          },
          "metadata": {},
          "execution_count": 10
        }
      ]
    },
    {
      "cell_type": "markdown",
      "source": [
        "- name : SNP 명\n",
        "- chrom : 염색체 정보\n",
        "- cm : Genetic distance\n",
        "- pos : 각 마커의 유전체상 위치 정보\n",
        "\n",
        "- 내가 알기로 Genetic distance가 가까울 수록 비슷한 종이고 멀수록 서로 많이 다른 종자가 된다. (computing genetic distance, we can estimate how long ago the two populations were separated)\n",
        "\n",
        "- SNP는 DNA의 어느 한 부분을 뜻하는 말이고, 여기에 올 수 있는 DNA code가 일반적으로 2종류여서 예를 들어 SNP-1은 A, G가 올수 있기 때문에 SNP-1자리에 올 수 있는 유전자형은 AA, AG, GG 세가지가 된다.\n",
        "\n",
        "-http://www.incodom.kr/SNP#h_2c088d3d06d5a44395884bd694e4f8ac"
      ],
      "metadata": {
        "id": "F_lcw0t8Fe0F"
      }
    },
    {
      "cell_type": "markdown",
      "source": [
        "## 데이터 전처리\n",
        "- class(y_train, y_test)는 다중분류므로 라벨 인코딩과 원핫 인코딩을 적용해준다\n",
        "- SNP는 만들어지는 경우의 수가 3가지 뿐이므로 각 열을 따로 인코딩 해준다\n",
        "- 0,1,2로 나눠지는 데이터를 MinMax로 0~1 사이로 만들어준다"
      ],
      "metadata": {
        "id": "RP5Tuq_ieoka"
      }
    },
    {
      "cell_type": "code",
      "source": [
        "class CFG:\n",
        "    SEED = 42"
      ],
      "metadata": {
        "id": "Rw7uk127IIF-"
      },
      "execution_count": null,
      "outputs": []
    },
    {
      "cell_type": "code",
      "source": [
        "def seed_everything(seed):\n",
        "    np.random.seed(seed)\n",
        "    os.environ['PYTHONHASHSEED'] = str(seed)\n",
        "    np.random.seed(seed)\n",
        "seed_everything(CFG.SEED) # Seed 고정"
      ],
      "metadata": {
        "id": "YUk4Qb_pId8G"
      },
      "execution_count": null,
      "outputs": []
    },
    {
      "cell_type": "code",
      "source": [
        "X_train, X_test, y_train, y_test = train_test_split(data, target, test_size = 0.2, random_state=CFG.SEED, stratify=target)"
      ],
      "metadata": {
        "id": "tE7sHNBlIj_7"
      },
      "execution_count": null,
      "outputs": []
    },
    {
      "cell_type": "markdown",
      "source": [
        "- y데이터(라벨링)에는 원핫 인코딩을 적용해준다"
      ],
      "metadata": {
        "id": "Rz9wt2k2VOoS"
      }
    },
    {
      "cell_type": "code",
      "source": [
        "#먼저 라벨 인코더\n",
        "target_label = preprocessing.LabelEncoder()\n",
        "y_train_scaled_ = target_label.fit_transform(y_train)"
      ],
      "metadata": {
        "id": "BlfiCNTuUvdk"
      },
      "execution_count": null,
      "outputs": []
    },
    {
      "cell_type": "code",
      "source": [
        "#원핫인코더\n",
        "from keras.utils import np_utils\n",
        "y_train_scaled = np_utils.to_categorical(y_train_scaled_)"
      ],
      "metadata": {
        "id": "VKl-JB_vX5Cc"
      },
      "execution_count": null,
      "outputs": []
    },
    {
      "cell_type": "markdown",
      "source": [
        "- 각 SNP별로 따로따로 인코딩"
      ],
      "metadata": {
        "id": "dUDCmpdfJiow"
      }
    },
    {
      "cell_type": "code",
      "source": [
        "snp_1 =  preprocessing.LabelEncoder()\n",
        "snp_2 =  preprocessing.LabelEncoder()\n",
        "snp_3 =  preprocessing.LabelEncoder()\n",
        "snp_4 =  preprocessing.LabelEncoder()\n",
        "snp_5 =  preprocessing.LabelEncoder()\n",
        "snp_6 =  preprocessing.LabelEncoder()\n",
        "snp_7 =  preprocessing.LabelEncoder()\n",
        "snp_8 =  preprocessing.LabelEncoder()\n",
        "snp_9 =  preprocessing.LabelEncoder()\n",
        "snp_10 =  preprocessing.LabelEncoder()\n",
        "snp_11 =  preprocessing.LabelEncoder()\n",
        "snp_12 =  preprocessing.LabelEncoder()\n",
        "snp_13 =  preprocessing.LabelEncoder()\n",
        "snp_14 =  preprocessing.LabelEncoder()\n",
        "snp_15 =  preprocessing.LabelEncoder()"
      ],
      "metadata": {
        "id": "sN3FkwokNnC9"
      },
      "execution_count": null,
      "outputs": []
    },
    {
      "cell_type": "code",
      "source": [
        "snp_1.fit(data['SNP_01'])\n",
        "snp_2.fit(data['SNP_02'])\n",
        "snp_3.fit(data['SNP_03'])\n",
        "snp_4.fit(data['SNP_04'])\n",
        "snp_5.fit(data['SNP_05'])\n",
        "snp_6.fit(data['SNP_06'])\n",
        "snp_7.fit(data['SNP_07'])\n",
        "snp_8.fit(data['SNP_08'])\n",
        "snp_9.fit(data['SNP_09'])\n",
        "snp_10.fit(data['SNP_10'])\n",
        "snp_11.fit(data['SNP_11'])\n",
        "snp_12.fit(data['SNP_12'])\n",
        "snp_13.fit(data['SNP_13'])\n",
        "snp_14.fit(data['SNP_14'])\n",
        "snp_15.fit(data['SNP_15'])"
      ],
      "metadata": {
        "colab": {
          "base_uri": "https://localhost:8080/"
        },
        "id": "-Al8k1RKIDj1",
        "outputId": "30ef2d6f-ee3d-4c48-b99d-6dc811c1504a"
      },
      "execution_count": null,
      "outputs": [
        {
          "output_type": "execute_result",
          "data": {
            "text/plain": [
              "LabelEncoder()"
            ]
          },
          "metadata": {},
          "execution_count": 17
        }
      ]
    },
    {
      "cell_type": "code",
      "source": [
        "X_train['SNP_01'] = snp_1.transform(X_train['SNP_01'])\n",
        "X_train['SNP_02'] = snp_2.transform(X_train['SNP_02'])\n",
        "X_train['SNP_03'] = snp_3.transform(X_train['SNP_03'])\n",
        "X_train['SNP_04'] = snp_4.transform(X_train['SNP_04'])\n",
        "X_train['SNP_05'] = snp_5.transform(X_train['SNP_05'])\n",
        "X_train['SNP_06'] = snp_6.transform(X_train['SNP_06'])\n",
        "X_train['SNP_07'] = snp_7.transform(X_train['SNP_07'])\n",
        "X_train['SNP_08'] = snp_8.transform(X_train['SNP_08'])\n",
        "X_train['SNP_09'] = snp_9.transform(X_train['SNP_09'])\n",
        "X_train['SNP_10'] = snp_10.transform(X_train['SNP_10'])\n",
        "X_train['SNP_11'] = snp_11.transform(X_train['SNP_11'])\n",
        "X_train['SNP_12'] = snp_12.transform(X_train['SNP_12'])\n",
        "X_train['SNP_13'] = snp_13.transform(X_train['SNP_13'])\n",
        "X_train['SNP_14'] = snp_14.transform(X_train['SNP_14'])\n",
        "X_train['SNP_15'] = snp_15.transform(X_train['SNP_15'])"
      ],
      "metadata": {
        "id": "cMvus2iDIGQG"
      },
      "execution_count": null,
      "outputs": []
    },
    {
      "cell_type": "code",
      "source": [
        "X_train.head()"
      ],
      "metadata": {
        "colab": {
          "base_uri": "https://localhost:8080/",
          "height": 206
        },
        "id": "fqiESkbuJlI0",
        "outputId": "c6ce18a0-bc6a-4361-ef47-39044a179c41"
      },
      "execution_count": null,
      "outputs": [
        {
          "output_type": "execute_result",
          "data": {
            "text/plain": [
              "     SNP_01  SNP_02  SNP_03  SNP_04  SNP_05  SNP_06  SNP_07  SNP_08  SNP_09  \\\n",
              "123       1       1       0       2       0       2       2       0       2   \n",
              "189       2       0       1       0       0       1       0       1       0   \n",
              "49        0       2       0       1       0       2       2       0       1   \n",
              "198       2       1       1       0       2       0       0       2       1   \n",
              "29        1       2       0       1       0       2       2       0       1   \n",
              "\n",
              "     SNP_10  SNP_11  SNP_12  SNP_13  SNP_14  SNP_15  \n",
              "123       0       2       1       2       1       1  \n",
              "189       1       0       0       1       0       0  \n",
              "49        0       2       1       2       1       2  \n",
              "198       2       2       0       1       0       1  \n",
              "29        0       2       2       2       0       2  "
            ],
            "text/html": [
              "\n",
              "  <div id=\"df-34e1509f-f80d-467d-b83d-8fcafdb22fa2\">\n",
              "    <div class=\"colab-df-container\">\n",
              "      <div>\n",
              "<style scoped>\n",
              "    .dataframe tbody tr th:only-of-type {\n",
              "        vertical-align: middle;\n",
              "    }\n",
              "\n",
              "    .dataframe tbody tr th {\n",
              "        vertical-align: top;\n",
              "    }\n",
              "\n",
              "    .dataframe thead th {\n",
              "        text-align: right;\n",
              "    }\n",
              "</style>\n",
              "<table border=\"1\" class=\"dataframe\">\n",
              "  <thead>\n",
              "    <tr style=\"text-align: right;\">\n",
              "      <th></th>\n",
              "      <th>SNP_01</th>\n",
              "      <th>SNP_02</th>\n",
              "      <th>SNP_03</th>\n",
              "      <th>SNP_04</th>\n",
              "      <th>SNP_05</th>\n",
              "      <th>SNP_06</th>\n",
              "      <th>SNP_07</th>\n",
              "      <th>SNP_08</th>\n",
              "      <th>SNP_09</th>\n",
              "      <th>SNP_10</th>\n",
              "      <th>SNP_11</th>\n",
              "      <th>SNP_12</th>\n",
              "      <th>SNP_13</th>\n",
              "      <th>SNP_14</th>\n",
              "      <th>SNP_15</th>\n",
              "    </tr>\n",
              "  </thead>\n",
              "  <tbody>\n",
              "    <tr>\n",
              "      <th>123</th>\n",
              "      <td>1</td>\n",
              "      <td>1</td>\n",
              "      <td>0</td>\n",
              "      <td>2</td>\n",
              "      <td>0</td>\n",
              "      <td>2</td>\n",
              "      <td>2</td>\n",
              "      <td>0</td>\n",
              "      <td>2</td>\n",
              "      <td>0</td>\n",
              "      <td>2</td>\n",
              "      <td>1</td>\n",
              "      <td>2</td>\n",
              "      <td>1</td>\n",
              "      <td>1</td>\n",
              "    </tr>\n",
              "    <tr>\n",
              "      <th>189</th>\n",
              "      <td>2</td>\n",
              "      <td>0</td>\n",
              "      <td>1</td>\n",
              "      <td>0</td>\n",
              "      <td>0</td>\n",
              "      <td>1</td>\n",
              "      <td>0</td>\n",
              "      <td>1</td>\n",
              "      <td>0</td>\n",
              "      <td>1</td>\n",
              "      <td>0</td>\n",
              "      <td>0</td>\n",
              "      <td>1</td>\n",
              "      <td>0</td>\n",
              "      <td>0</td>\n",
              "    </tr>\n",
              "    <tr>\n",
              "      <th>49</th>\n",
              "      <td>0</td>\n",
              "      <td>2</td>\n",
              "      <td>0</td>\n",
              "      <td>1</td>\n",
              "      <td>0</td>\n",
              "      <td>2</td>\n",
              "      <td>2</td>\n",
              "      <td>0</td>\n",
              "      <td>1</td>\n",
              "      <td>0</td>\n",
              "      <td>2</td>\n",
              "      <td>1</td>\n",
              "      <td>2</td>\n",
              "      <td>1</td>\n",
              "      <td>2</td>\n",
              "    </tr>\n",
              "    <tr>\n",
              "      <th>198</th>\n",
              "      <td>2</td>\n",
              "      <td>1</td>\n",
              "      <td>1</td>\n",
              "      <td>0</td>\n",
              "      <td>2</td>\n",
              "      <td>0</td>\n",
              "      <td>0</td>\n",
              "      <td>2</td>\n",
              "      <td>1</td>\n",
              "      <td>2</td>\n",
              "      <td>2</td>\n",
              "      <td>0</td>\n",
              "      <td>1</td>\n",
              "      <td>0</td>\n",
              "      <td>1</td>\n",
              "    </tr>\n",
              "    <tr>\n",
              "      <th>29</th>\n",
              "      <td>1</td>\n",
              "      <td>2</td>\n",
              "      <td>0</td>\n",
              "      <td>1</td>\n",
              "      <td>0</td>\n",
              "      <td>2</td>\n",
              "      <td>2</td>\n",
              "      <td>0</td>\n",
              "      <td>1</td>\n",
              "      <td>0</td>\n",
              "      <td>2</td>\n",
              "      <td>2</td>\n",
              "      <td>2</td>\n",
              "      <td>0</td>\n",
              "      <td>2</td>\n",
              "    </tr>\n",
              "  </tbody>\n",
              "</table>\n",
              "</div>\n",
              "      <button class=\"colab-df-convert\" onclick=\"convertToInteractive('df-34e1509f-f80d-467d-b83d-8fcafdb22fa2')\"\n",
              "              title=\"Convert this dataframe to an interactive table.\"\n",
              "              style=\"display:none;\">\n",
              "        \n",
              "  <svg xmlns=\"http://www.w3.org/2000/svg\" height=\"24px\"viewBox=\"0 0 24 24\"\n",
              "       width=\"24px\">\n",
              "    <path d=\"M0 0h24v24H0V0z\" fill=\"none\"/>\n",
              "    <path d=\"M18.56 5.44l.94 2.06.94-2.06 2.06-.94-2.06-.94-.94-2.06-.94 2.06-2.06.94zm-11 1L8.5 8.5l.94-2.06 2.06-.94-2.06-.94L8.5 2.5l-.94 2.06-2.06.94zm10 10l.94 2.06.94-2.06 2.06-.94-2.06-.94-.94-2.06-.94 2.06-2.06.94z\"/><path d=\"M17.41 7.96l-1.37-1.37c-.4-.4-.92-.59-1.43-.59-.52 0-1.04.2-1.43.59L10.3 9.45l-7.72 7.72c-.78.78-.78 2.05 0 2.83L4 21.41c.39.39.9.59 1.41.59.51 0 1.02-.2 1.41-.59l7.78-7.78 2.81-2.81c.8-.78.8-2.07 0-2.86zM5.41 20L4 18.59l7.72-7.72 1.47 1.35L5.41 20z\"/>\n",
              "  </svg>\n",
              "      </button>\n",
              "      \n",
              "  <style>\n",
              "    .colab-df-container {\n",
              "      display:flex;\n",
              "      flex-wrap:wrap;\n",
              "      gap: 12px;\n",
              "    }\n",
              "\n",
              "    .colab-df-convert {\n",
              "      background-color: #E8F0FE;\n",
              "      border: none;\n",
              "      border-radius: 50%;\n",
              "      cursor: pointer;\n",
              "      display: none;\n",
              "      fill: #1967D2;\n",
              "      height: 32px;\n",
              "      padding: 0 0 0 0;\n",
              "      width: 32px;\n",
              "    }\n",
              "\n",
              "    .colab-df-convert:hover {\n",
              "      background-color: #E2EBFA;\n",
              "      box-shadow: 0px 1px 2px rgba(60, 64, 67, 0.3), 0px 1px 3px 1px rgba(60, 64, 67, 0.15);\n",
              "      fill: #174EA6;\n",
              "    }\n",
              "\n",
              "    [theme=dark] .colab-df-convert {\n",
              "      background-color: #3B4455;\n",
              "      fill: #D2E3FC;\n",
              "    }\n",
              "\n",
              "    [theme=dark] .colab-df-convert:hover {\n",
              "      background-color: #434B5C;\n",
              "      box-shadow: 0px 1px 3px 1px rgba(0, 0, 0, 0.15);\n",
              "      filter: drop-shadow(0px 1px 2px rgba(0, 0, 0, 0.3));\n",
              "      fill: #FFFFFF;\n",
              "    }\n",
              "  </style>\n",
              "\n",
              "      <script>\n",
              "        const buttonEl =\n",
              "          document.querySelector('#df-34e1509f-f80d-467d-b83d-8fcafdb22fa2 button.colab-df-convert');\n",
              "        buttonEl.style.display =\n",
              "          google.colab.kernel.accessAllowed ? 'block' : 'none';\n",
              "\n",
              "        async function convertToInteractive(key) {\n",
              "          const element = document.querySelector('#df-34e1509f-f80d-467d-b83d-8fcafdb22fa2');\n",
              "          const dataTable =\n",
              "            await google.colab.kernel.invokeFunction('convertToInteractive',\n",
              "                                                     [key], {});\n",
              "          if (!dataTable) return;\n",
              "\n",
              "          const docLinkHtml = 'Like what you see? Visit the ' +\n",
              "            '<a target=\"_blank\" href=https://colab.research.google.com/notebooks/data_table.ipynb>data table notebook</a>'\n",
              "            + ' to learn more about interactive tables.';\n",
              "          element.innerHTML = '';\n",
              "          dataTable['output_type'] = 'display_data';\n",
              "          await google.colab.output.renderOutput(dataTable, element);\n",
              "          const docLink = document.createElement('div');\n",
              "          docLink.innerHTML = docLinkHtml;\n",
              "          element.appendChild(docLink);\n",
              "        }\n",
              "      </script>\n",
              "    </div>\n",
              "  </div>\n",
              "  "
            ]
          },
          "metadata": {},
          "execution_count": 19
        }
      ]
    },
    {
      "cell_type": "code",
      "source": [
        "X_test['SNP_01'] = snp_1.transform(X_test['SNP_01'])\n",
        "X_test['SNP_02'] = snp_2.transform(X_test['SNP_02'])\n",
        "X_test['SNP_03'] = snp_3.transform(X_test['SNP_03'])\n",
        "X_test['SNP_04'] = snp_4.transform(X_test['SNP_04'])\n",
        "X_test['SNP_05'] = snp_5.transform(X_test['SNP_05'])\n",
        "X_test['SNP_06'] = snp_6.transform(X_test['SNP_06'])\n",
        "X_test['SNP_07'] = snp_7.transform(X_test['SNP_07'])\n",
        "X_test['SNP_08'] = snp_8.transform(X_test['SNP_08'])\n",
        "X_test['SNP_09'] = snp_9.transform(X_test['SNP_09'])\n",
        "X_test['SNP_10'] = snp_10.transform(X_test['SNP_10'])\n",
        "X_test['SNP_11'] = snp_11.transform(X_test['SNP_11'])\n",
        "X_test['SNP_12'] = snp_12.transform(X_test['SNP_12'])\n",
        "X_test['SNP_13'] = snp_13.transform(X_test['SNP_13'])\n",
        "X_test['SNP_14'] = snp_14.transform(X_test['SNP_14'])\n",
        "X_test['SNP_15'] = snp_15.transform(X_test['SNP_15'])"
      ],
      "metadata": {
        "id": "Zc4iHw3dQU-j"
      },
      "execution_count": null,
      "outputs": []
    },
    {
      "cell_type": "code",
      "source": [
        "X_test.head(5)"
      ],
      "metadata": {
        "colab": {
          "base_uri": "https://localhost:8080/",
          "height": 206
        },
        "id": "PRDfKSnkQXT1",
        "outputId": "3f8a4530-5fff-49a5-b7d2-67684f046030"
      },
      "execution_count": null,
      "outputs": [
        {
          "output_type": "execute_result",
          "data": {
            "text/plain": [
              "     SNP_01  SNP_02  SNP_03  SNP_04  SNP_05  SNP_06  SNP_07  SNP_08  SNP_09  \\\n",
              "15        0       2       0       2       0       2       2       0       2   \n",
              "139       2       2       1       1       2       0       0       2       0   \n",
              "204       0       2       0       1       0       2       2       0       1   \n",
              "114       2       2       1       0       1       1       0       2       0   \n",
              "16        0       2       0       2       0       2       2       0       1   \n",
              "\n",
              "     SNP_10  SNP_11  SNP_12  SNP_13  SNP_14  SNP_15  \n",
              "15        1       1       1       2       2       2  \n",
              "139       2       0       0       0       0       1  \n",
              "204       1       2       2       2       0       2  \n",
              "114       2       1       0       1       0       0  \n",
              "16        2       1       2       2       1       2  "
            ],
            "text/html": [
              "\n",
              "  <div id=\"df-d96fb6c0-2e38-4da1-8d02-789ff50c5955\">\n",
              "    <div class=\"colab-df-container\">\n",
              "      <div>\n",
              "<style scoped>\n",
              "    .dataframe tbody tr th:only-of-type {\n",
              "        vertical-align: middle;\n",
              "    }\n",
              "\n",
              "    .dataframe tbody tr th {\n",
              "        vertical-align: top;\n",
              "    }\n",
              "\n",
              "    .dataframe thead th {\n",
              "        text-align: right;\n",
              "    }\n",
              "</style>\n",
              "<table border=\"1\" class=\"dataframe\">\n",
              "  <thead>\n",
              "    <tr style=\"text-align: right;\">\n",
              "      <th></th>\n",
              "      <th>SNP_01</th>\n",
              "      <th>SNP_02</th>\n",
              "      <th>SNP_03</th>\n",
              "      <th>SNP_04</th>\n",
              "      <th>SNP_05</th>\n",
              "      <th>SNP_06</th>\n",
              "      <th>SNP_07</th>\n",
              "      <th>SNP_08</th>\n",
              "      <th>SNP_09</th>\n",
              "      <th>SNP_10</th>\n",
              "      <th>SNP_11</th>\n",
              "      <th>SNP_12</th>\n",
              "      <th>SNP_13</th>\n",
              "      <th>SNP_14</th>\n",
              "      <th>SNP_15</th>\n",
              "    </tr>\n",
              "  </thead>\n",
              "  <tbody>\n",
              "    <tr>\n",
              "      <th>15</th>\n",
              "      <td>0</td>\n",
              "      <td>2</td>\n",
              "      <td>0</td>\n",
              "      <td>2</td>\n",
              "      <td>0</td>\n",
              "      <td>2</td>\n",
              "      <td>2</td>\n",
              "      <td>0</td>\n",
              "      <td>2</td>\n",
              "      <td>1</td>\n",
              "      <td>1</td>\n",
              "      <td>1</td>\n",
              "      <td>2</td>\n",
              "      <td>2</td>\n",
              "      <td>2</td>\n",
              "    </tr>\n",
              "    <tr>\n",
              "      <th>139</th>\n",
              "      <td>2</td>\n",
              "      <td>2</td>\n",
              "      <td>1</td>\n",
              "      <td>1</td>\n",
              "      <td>2</td>\n",
              "      <td>0</td>\n",
              "      <td>0</td>\n",
              "      <td>2</td>\n",
              "      <td>0</td>\n",
              "      <td>2</td>\n",
              "      <td>0</td>\n",
              "      <td>0</td>\n",
              "      <td>0</td>\n",
              "      <td>0</td>\n",
              "      <td>1</td>\n",
              "    </tr>\n",
              "    <tr>\n",
              "      <th>204</th>\n",
              "      <td>0</td>\n",
              "      <td>2</td>\n",
              "      <td>0</td>\n",
              "      <td>1</td>\n",
              "      <td>0</td>\n",
              "      <td>2</td>\n",
              "      <td>2</td>\n",
              "      <td>0</td>\n",
              "      <td>1</td>\n",
              "      <td>1</td>\n",
              "      <td>2</td>\n",
              "      <td>2</td>\n",
              "      <td>2</td>\n",
              "      <td>0</td>\n",
              "      <td>2</td>\n",
              "    </tr>\n",
              "    <tr>\n",
              "      <th>114</th>\n",
              "      <td>2</td>\n",
              "      <td>2</td>\n",
              "      <td>1</td>\n",
              "      <td>0</td>\n",
              "      <td>1</td>\n",
              "      <td>1</td>\n",
              "      <td>0</td>\n",
              "      <td>2</td>\n",
              "      <td>0</td>\n",
              "      <td>2</td>\n",
              "      <td>1</td>\n",
              "      <td>0</td>\n",
              "      <td>1</td>\n",
              "      <td>0</td>\n",
              "      <td>0</td>\n",
              "    </tr>\n",
              "    <tr>\n",
              "      <th>16</th>\n",
              "      <td>0</td>\n",
              "      <td>2</td>\n",
              "      <td>0</td>\n",
              "      <td>2</td>\n",
              "      <td>0</td>\n",
              "      <td>2</td>\n",
              "      <td>2</td>\n",
              "      <td>0</td>\n",
              "      <td>1</td>\n",
              "      <td>2</td>\n",
              "      <td>1</td>\n",
              "      <td>2</td>\n",
              "      <td>2</td>\n",
              "      <td>1</td>\n",
              "      <td>2</td>\n",
              "    </tr>\n",
              "  </tbody>\n",
              "</table>\n",
              "</div>\n",
              "      <button class=\"colab-df-convert\" onclick=\"convertToInteractive('df-d96fb6c0-2e38-4da1-8d02-789ff50c5955')\"\n",
              "              title=\"Convert this dataframe to an interactive table.\"\n",
              "              style=\"display:none;\">\n",
              "        \n",
              "  <svg xmlns=\"http://www.w3.org/2000/svg\" height=\"24px\"viewBox=\"0 0 24 24\"\n",
              "       width=\"24px\">\n",
              "    <path d=\"M0 0h24v24H0V0z\" fill=\"none\"/>\n",
              "    <path d=\"M18.56 5.44l.94 2.06.94-2.06 2.06-.94-2.06-.94-.94-2.06-.94 2.06-2.06.94zm-11 1L8.5 8.5l.94-2.06 2.06-.94-2.06-.94L8.5 2.5l-.94 2.06-2.06.94zm10 10l.94 2.06.94-2.06 2.06-.94-2.06-.94-.94-2.06-.94 2.06-2.06.94z\"/><path d=\"M17.41 7.96l-1.37-1.37c-.4-.4-.92-.59-1.43-.59-.52 0-1.04.2-1.43.59L10.3 9.45l-7.72 7.72c-.78.78-.78 2.05 0 2.83L4 21.41c.39.39.9.59 1.41.59.51 0 1.02-.2 1.41-.59l7.78-7.78 2.81-2.81c.8-.78.8-2.07 0-2.86zM5.41 20L4 18.59l7.72-7.72 1.47 1.35L5.41 20z\"/>\n",
              "  </svg>\n",
              "      </button>\n",
              "      \n",
              "  <style>\n",
              "    .colab-df-container {\n",
              "      display:flex;\n",
              "      flex-wrap:wrap;\n",
              "      gap: 12px;\n",
              "    }\n",
              "\n",
              "    .colab-df-convert {\n",
              "      background-color: #E8F0FE;\n",
              "      border: none;\n",
              "      border-radius: 50%;\n",
              "      cursor: pointer;\n",
              "      display: none;\n",
              "      fill: #1967D2;\n",
              "      height: 32px;\n",
              "      padding: 0 0 0 0;\n",
              "      width: 32px;\n",
              "    }\n",
              "\n",
              "    .colab-df-convert:hover {\n",
              "      background-color: #E2EBFA;\n",
              "      box-shadow: 0px 1px 2px rgba(60, 64, 67, 0.3), 0px 1px 3px 1px rgba(60, 64, 67, 0.15);\n",
              "      fill: #174EA6;\n",
              "    }\n",
              "\n",
              "    [theme=dark] .colab-df-convert {\n",
              "      background-color: #3B4455;\n",
              "      fill: #D2E3FC;\n",
              "    }\n",
              "\n",
              "    [theme=dark] .colab-df-convert:hover {\n",
              "      background-color: #434B5C;\n",
              "      box-shadow: 0px 1px 3px 1px rgba(0, 0, 0, 0.15);\n",
              "      filter: drop-shadow(0px 1px 2px rgba(0, 0, 0, 0.3));\n",
              "      fill: #FFFFFF;\n",
              "    }\n",
              "  </style>\n",
              "\n",
              "      <script>\n",
              "        const buttonEl =\n",
              "          document.querySelector('#df-d96fb6c0-2e38-4da1-8d02-789ff50c5955 button.colab-df-convert');\n",
              "        buttonEl.style.display =\n",
              "          google.colab.kernel.accessAllowed ? 'block' : 'none';\n",
              "\n",
              "        async function convertToInteractive(key) {\n",
              "          const element = document.querySelector('#df-d96fb6c0-2e38-4da1-8d02-789ff50c5955');\n",
              "          const dataTable =\n",
              "            await google.colab.kernel.invokeFunction('convertToInteractive',\n",
              "                                                     [key], {});\n",
              "          if (!dataTable) return;\n",
              "\n",
              "          const docLinkHtml = 'Like what you see? Visit the ' +\n",
              "            '<a target=\"_blank\" href=https://colab.research.google.com/notebooks/data_table.ipynb>data table notebook</a>'\n",
              "            + ' to learn more about interactive tables.';\n",
              "          element.innerHTML = '';\n",
              "          dataTable['output_type'] = 'display_data';\n",
              "          await google.colab.output.renderOutput(dataTable, element);\n",
              "          const docLink = document.createElement('div');\n",
              "          docLink.innerHTML = docLinkHtml;\n",
              "          element.appendChild(docLink);\n",
              "        }\n",
              "      </script>\n",
              "    </div>\n",
              "  </div>\n",
              "  "
            ]
          },
          "metadata": {},
          "execution_count": 21
        }
      ]
    },
    {
      "cell_type": "code",
      "source": [
        "scaler = preprocessing.MinMaxScaler()\n",
        "scaler.fit(X_train)\n",
        "X_train_scaled_ = scaler.transform(X_train)\n",
        "X_test_scaled_ = scaler.transform(X_test)"
      ],
      "metadata": {
        "id": "tKgEu-d-gc0q"
      },
      "execution_count": null,
      "outputs": []
    },
    {
      "cell_type": "code",
      "source": [
        "X_train_scaled = pd.DataFrame(X_train_scaled_, columns=X_train.columns, index=X_train.index)\n",
        "X_test_scaled = pd.DataFrame(X_test_scaled_, columns=X_test.columns, index=X_test.index)"
      ],
      "metadata": {
        "id": "yUhHExb7hpP1"
      },
      "execution_count": null,
      "outputs": []
    },
    {
      "cell_type": "code",
      "source": [
        "X_train_scaled.head(5)"
      ],
      "metadata": {
        "colab": {
          "base_uri": "https://localhost:8080/",
          "height": 206
        },
        "id": "CZ__IK0tqsyc",
        "outputId": "1233c317-72d6-4a5d-81ec-74a34085fa29"
      },
      "execution_count": null,
      "outputs": [
        {
          "output_type": "execute_result",
          "data": {
            "text/plain": [
              "     SNP_01  SNP_02  SNP_03  SNP_04  SNP_05  SNP_06  SNP_07  SNP_08  SNP_09  \\\n",
              "123     0.5     0.5     0.0     1.0     0.0     1.0     1.0     0.0     1.0   \n",
              "189     1.0     0.0     0.5     0.0     0.0     0.5     0.0     0.5     0.0   \n",
              "49      0.0     1.0     0.0     0.5     0.0     1.0     1.0     0.0     0.5   \n",
              "198     1.0     0.5     0.5     0.0     1.0     0.0     0.0     1.0     0.5   \n",
              "29      0.5     1.0     0.0     0.5     0.0     1.0     1.0     0.0     0.5   \n",
              "\n",
              "     SNP_10  SNP_11  SNP_12  SNP_13  SNP_14  SNP_15  \n",
              "123     0.0     1.0     0.5     1.0     0.5     0.5  \n",
              "189     0.5     0.0     0.0     0.5     0.0     0.0  \n",
              "49      0.0     1.0     0.5     1.0     0.5     1.0  \n",
              "198     1.0     1.0     0.0     0.5     0.0     0.5  \n",
              "29      0.0     1.0     1.0     1.0     0.0     1.0  "
            ],
            "text/html": [
              "\n",
              "  <div id=\"df-cf9c140d-fdf4-4821-a5d4-2b7f27adcfab\">\n",
              "    <div class=\"colab-df-container\">\n",
              "      <div>\n",
              "<style scoped>\n",
              "    .dataframe tbody tr th:only-of-type {\n",
              "        vertical-align: middle;\n",
              "    }\n",
              "\n",
              "    .dataframe tbody tr th {\n",
              "        vertical-align: top;\n",
              "    }\n",
              "\n",
              "    .dataframe thead th {\n",
              "        text-align: right;\n",
              "    }\n",
              "</style>\n",
              "<table border=\"1\" class=\"dataframe\">\n",
              "  <thead>\n",
              "    <tr style=\"text-align: right;\">\n",
              "      <th></th>\n",
              "      <th>SNP_01</th>\n",
              "      <th>SNP_02</th>\n",
              "      <th>SNP_03</th>\n",
              "      <th>SNP_04</th>\n",
              "      <th>SNP_05</th>\n",
              "      <th>SNP_06</th>\n",
              "      <th>SNP_07</th>\n",
              "      <th>SNP_08</th>\n",
              "      <th>SNP_09</th>\n",
              "      <th>SNP_10</th>\n",
              "      <th>SNP_11</th>\n",
              "      <th>SNP_12</th>\n",
              "      <th>SNP_13</th>\n",
              "      <th>SNP_14</th>\n",
              "      <th>SNP_15</th>\n",
              "    </tr>\n",
              "  </thead>\n",
              "  <tbody>\n",
              "    <tr>\n",
              "      <th>123</th>\n",
              "      <td>0.5</td>\n",
              "      <td>0.5</td>\n",
              "      <td>0.0</td>\n",
              "      <td>1.0</td>\n",
              "      <td>0.0</td>\n",
              "      <td>1.0</td>\n",
              "      <td>1.0</td>\n",
              "      <td>0.0</td>\n",
              "      <td>1.0</td>\n",
              "      <td>0.0</td>\n",
              "      <td>1.0</td>\n",
              "      <td>0.5</td>\n",
              "      <td>1.0</td>\n",
              "      <td>0.5</td>\n",
              "      <td>0.5</td>\n",
              "    </tr>\n",
              "    <tr>\n",
              "      <th>189</th>\n",
              "      <td>1.0</td>\n",
              "      <td>0.0</td>\n",
              "      <td>0.5</td>\n",
              "      <td>0.0</td>\n",
              "      <td>0.0</td>\n",
              "      <td>0.5</td>\n",
              "      <td>0.0</td>\n",
              "      <td>0.5</td>\n",
              "      <td>0.0</td>\n",
              "      <td>0.5</td>\n",
              "      <td>0.0</td>\n",
              "      <td>0.0</td>\n",
              "      <td>0.5</td>\n",
              "      <td>0.0</td>\n",
              "      <td>0.0</td>\n",
              "    </tr>\n",
              "    <tr>\n",
              "      <th>49</th>\n",
              "      <td>0.0</td>\n",
              "      <td>1.0</td>\n",
              "      <td>0.0</td>\n",
              "      <td>0.5</td>\n",
              "      <td>0.0</td>\n",
              "      <td>1.0</td>\n",
              "      <td>1.0</td>\n",
              "      <td>0.0</td>\n",
              "      <td>0.5</td>\n",
              "      <td>0.0</td>\n",
              "      <td>1.0</td>\n",
              "      <td>0.5</td>\n",
              "      <td>1.0</td>\n",
              "      <td>0.5</td>\n",
              "      <td>1.0</td>\n",
              "    </tr>\n",
              "    <tr>\n",
              "      <th>198</th>\n",
              "      <td>1.0</td>\n",
              "      <td>0.5</td>\n",
              "      <td>0.5</td>\n",
              "      <td>0.0</td>\n",
              "      <td>1.0</td>\n",
              "      <td>0.0</td>\n",
              "      <td>0.0</td>\n",
              "      <td>1.0</td>\n",
              "      <td>0.5</td>\n",
              "      <td>1.0</td>\n",
              "      <td>1.0</td>\n",
              "      <td>0.0</td>\n",
              "      <td>0.5</td>\n",
              "      <td>0.0</td>\n",
              "      <td>0.5</td>\n",
              "    </tr>\n",
              "    <tr>\n",
              "      <th>29</th>\n",
              "      <td>0.5</td>\n",
              "      <td>1.0</td>\n",
              "      <td>0.0</td>\n",
              "      <td>0.5</td>\n",
              "      <td>0.0</td>\n",
              "      <td>1.0</td>\n",
              "      <td>1.0</td>\n",
              "      <td>0.0</td>\n",
              "      <td>0.5</td>\n",
              "      <td>0.0</td>\n",
              "      <td>1.0</td>\n",
              "      <td>1.0</td>\n",
              "      <td>1.0</td>\n",
              "      <td>0.0</td>\n",
              "      <td>1.0</td>\n",
              "    </tr>\n",
              "  </tbody>\n",
              "</table>\n",
              "</div>\n",
              "      <button class=\"colab-df-convert\" onclick=\"convertToInteractive('df-cf9c140d-fdf4-4821-a5d4-2b7f27adcfab')\"\n",
              "              title=\"Convert this dataframe to an interactive table.\"\n",
              "              style=\"display:none;\">\n",
              "        \n",
              "  <svg xmlns=\"http://www.w3.org/2000/svg\" height=\"24px\"viewBox=\"0 0 24 24\"\n",
              "       width=\"24px\">\n",
              "    <path d=\"M0 0h24v24H0V0z\" fill=\"none\"/>\n",
              "    <path d=\"M18.56 5.44l.94 2.06.94-2.06 2.06-.94-2.06-.94-.94-2.06-.94 2.06-2.06.94zm-11 1L8.5 8.5l.94-2.06 2.06-.94-2.06-.94L8.5 2.5l-.94 2.06-2.06.94zm10 10l.94 2.06.94-2.06 2.06-.94-2.06-.94-.94-2.06-.94 2.06-2.06.94z\"/><path d=\"M17.41 7.96l-1.37-1.37c-.4-.4-.92-.59-1.43-.59-.52 0-1.04.2-1.43.59L10.3 9.45l-7.72 7.72c-.78.78-.78 2.05 0 2.83L4 21.41c.39.39.9.59 1.41.59.51 0 1.02-.2 1.41-.59l7.78-7.78 2.81-2.81c.8-.78.8-2.07 0-2.86zM5.41 20L4 18.59l7.72-7.72 1.47 1.35L5.41 20z\"/>\n",
              "  </svg>\n",
              "      </button>\n",
              "      \n",
              "  <style>\n",
              "    .colab-df-container {\n",
              "      display:flex;\n",
              "      flex-wrap:wrap;\n",
              "      gap: 12px;\n",
              "    }\n",
              "\n",
              "    .colab-df-convert {\n",
              "      background-color: #E8F0FE;\n",
              "      border: none;\n",
              "      border-radius: 50%;\n",
              "      cursor: pointer;\n",
              "      display: none;\n",
              "      fill: #1967D2;\n",
              "      height: 32px;\n",
              "      padding: 0 0 0 0;\n",
              "      width: 32px;\n",
              "    }\n",
              "\n",
              "    .colab-df-convert:hover {\n",
              "      background-color: #E2EBFA;\n",
              "      box-shadow: 0px 1px 2px rgba(60, 64, 67, 0.3), 0px 1px 3px 1px rgba(60, 64, 67, 0.15);\n",
              "      fill: #174EA6;\n",
              "    }\n",
              "\n",
              "    [theme=dark] .colab-df-convert {\n",
              "      background-color: #3B4455;\n",
              "      fill: #D2E3FC;\n",
              "    }\n",
              "\n",
              "    [theme=dark] .colab-df-convert:hover {\n",
              "      background-color: #434B5C;\n",
              "      box-shadow: 0px 1px 3px 1px rgba(0, 0, 0, 0.15);\n",
              "      filter: drop-shadow(0px 1px 2px rgba(0, 0, 0, 0.3));\n",
              "      fill: #FFFFFF;\n",
              "    }\n",
              "  </style>\n",
              "\n",
              "      <script>\n",
              "        const buttonEl =\n",
              "          document.querySelector('#df-cf9c140d-fdf4-4821-a5d4-2b7f27adcfab button.colab-df-convert');\n",
              "        buttonEl.style.display =\n",
              "          google.colab.kernel.accessAllowed ? 'block' : 'none';\n",
              "\n",
              "        async function convertToInteractive(key) {\n",
              "          const element = document.querySelector('#df-cf9c140d-fdf4-4821-a5d4-2b7f27adcfab');\n",
              "          const dataTable =\n",
              "            await google.colab.kernel.invokeFunction('convertToInteractive',\n",
              "                                                     [key], {});\n",
              "          if (!dataTable) return;\n",
              "\n",
              "          const docLinkHtml = 'Like what you see? Visit the ' +\n",
              "            '<a target=\"_blank\" href=https://colab.research.google.com/notebooks/data_table.ipynb>data table notebook</a>'\n",
              "            + ' to learn more about interactive tables.';\n",
              "          element.innerHTML = '';\n",
              "          dataTable['output_type'] = 'display_data';\n",
              "          await google.colab.output.renderOutput(dataTable, element);\n",
              "          const docLink = document.createElement('div');\n",
              "          docLink.innerHTML = docLinkHtml;\n",
              "          element.appendChild(docLink);\n",
              "        }\n",
              "      </script>\n",
              "    </div>\n",
              "  </div>\n",
              "  "
            ]
          },
          "metadata": {},
          "execution_count": 24
        }
      ]
    },
    {
      "cell_type": "markdown",
      "source": [
        "### n차원의 PCA를 실행함으로서 분산데이터의 유실을 거의 줄이면서 분류를 위한 특성변환을 한다\n"
      ],
      "metadata": {
        "id": "vXuYZKRM6Rgt"
      }
    },
    {
      "cell_type": "code",
      "source": [
        "from sklearn.decomposition import PCA\n",
        "\n",
        "pca = PCA(X_train_scaled.shape[1])\n",
        "X_train_pca = pca.fit_transform(X_train_scaled)\n",
        "X_test_pca = pca.transform(X_test_scaled)"
      ],
      "metadata": {
        "id": "OHbNzAIv6Qxn"
      },
      "execution_count": null,
      "outputs": []
    },
    {
      "cell_type": "markdown",
      "source": [
        "## 평가지표\n",
        "- F1 macro를 사용해 평가한다"
      ],
      "metadata": {
        "id": "HcaOc_uFq9Pf"
      }
    },
    {
      "cell_type": "code",
      "source": [
        "#머신러닝 평가지표\n",
        "def get_clf_eval(y_test, pred):\n",
        "    confusion = confusion_matrix(y_test, pred)\n",
        "    accuracy = accuracy_score(y_test, pred)*100\n",
        "    precision = precision_score(y_test, pred, average='macro')*100\n",
        "    recall = recall_score(y_test, pred, average='macro')*100\n",
        "    f1_macro = f1_score(y_test, pred,  average='macro')\n",
        "    \n",
        "    print('오차행렬')\n",
        "    print(confusion)\n",
        "    print('정확도 :',\"%.1f\"%accuracy+'%')\n",
        "    print('정밀도 :',\"%.1f\"%precision+'%')\n",
        "    print('재현율 :', \"%.1f\"%recall+'%')\n",
        "    print('Macro F1 score :', f1_macro)"
      ],
      "metadata": {
        "id": "e8C4gdeIKox4"
      },
      "execution_count": null,
      "outputs": []
    },
    {
      "cell_type": "code",
      "source": [
        "#딥러닝 평가지표(케라스)\n",
        "from keras import backend as K\n",
        "def recall(y_target, y_pred):\n",
        "    # clip(t, clip_value_min, clip_value_max) : clip_value_min~clip_value_max 이외 가장자리를 깎아 낸다\n",
        "    # round : 반올림한다\n",
        "    y_target_yn = K.round(K.clip(y_target, 0, 1)) # 실제값을 0(Negative) 또는 1(Positive)로 설정한다\n",
        "    y_pred_yn = K.round(K.clip(y_pred, 0, 1)) # 예측값을 0(Negative) 또는 1(Positive)로 설정한다\n",
        "\n",
        "    # True Positive는 실제 값과 예측 값이 모두 1(Positive)인 경우이다\n",
        "    count_true_positive = K.sum(y_target_yn * y_pred_yn) \n",
        "\n",
        "    # (True Positive + False Negative) = 실제 값이 1(Positive) 전체\n",
        "    count_true_positive_false_negative = K.sum(y_target_yn)\n",
        "\n",
        "    # Recall =  (True Positive) / (True Positive + False Negative)\n",
        "    # K.epsilon()는 'divide by zero error' 예방차원에서 작은 수를 더한다\n",
        "    recall = count_true_positive / (count_true_positive_false_negative + K.epsilon())\n",
        "\n",
        "    # return a single tensor value\n",
        "    return recall\n",
        "\n",
        "\n",
        "def precision(y_target, y_pred):\n",
        "    # clip(t, clip_value_min, clip_value_max) : clip_value_min~clip_value_max 이외 가장자리를 깎아 낸다\n",
        "    # round : 반올림한다\n",
        "    y_pred_yn = K.round(K.clip(y_pred, 0, 1)) # 예측값을 0(Negative) 또는 1(Positive)로 설정한다\n",
        "    y_target_yn = K.round(K.clip(y_target, 0, 1)) # 실제값을 0(Negative) 또는 1(Positive)로 설정한다\n",
        "\n",
        "    # True Positive는 실제 값과 예측 값이 모두 1(Positive)인 경우이다\n",
        "    count_true_positive = K.sum(y_target_yn * y_pred_yn) \n",
        "\n",
        "    # (True Positive + False Positive) = 예측 값이 1(Positive) 전체\n",
        "    count_true_positive_false_positive = K.sum(y_pred_yn)\n",
        "\n",
        "    # Precision = (True Positive) / (True Positive + False Positive)\n",
        "    # K.epsilon()는 'divide by zero error' 예방차원에서 작은 수를 더한다\n",
        "    precision = count_true_positive / (count_true_positive_false_positive + K.epsilon())\n",
        "\n",
        "    # return a single tensor value\n",
        "    return precision\n",
        "\n",
        "\n",
        "def f1score(y_target, y_pred):\n",
        "    _recall = recall(y_target, y_pred)\n",
        "    _precision = precision(y_target, y_pred)\n",
        "    # K.epsilon()는 'divide by zero error' 예방차원에서 작은 수를 더한다\n",
        "    _f1score = ( 2 * _recall * _precision) / (_recall + _precision+ K.epsilon())\n",
        "    \n",
        "    # return a single tensor value\n",
        "    return _f1score"
      ],
      "metadata": {
        "id": "WBIu-pHFb_pF"
      },
      "execution_count": null,
      "outputs": []
    },
    {
      "cell_type": "markdown",
      "source": [
        "## 머신러닝 알고리즘"
      ],
      "metadata": {
        "id": "q56NtoFYgdpJ"
      }
    },
    {
      "cell_type": "code",
      "source": [
        "#Scikit-Optimize를 이용해 파라미터 자동 튜닝\n",
        "!pip install -q scikit-optimize "
      ],
      "metadata": {
        "id": "JwxQPm3U9xep",
        "colab": {
          "base_uri": "https://localhost:8080/"
        },
        "outputId": "04f457dd-414f-4ccc-8232-c0ad8b081e55"
      },
      "execution_count": null,
      "outputs": [
        {
          "output_type": "stream",
          "name": "stdout",
          "text": [
            "\u001b[?25l     \u001b[90m━━━━━━━━━━━━━━━━━━━━━━━━━━━━━━━━━━━━━━━━\u001b[0m \u001b[32m0.0/100.3 KB\u001b[0m \u001b[31m?\u001b[0m eta \u001b[36m-:--:--\u001b[0m\r\u001b[2K     \u001b[90m━━━━━━━━━━━━━━━━━━━━━━━━━━━━━━━━━━━━━━━\u001b[0m \u001b[32m100.3/100.3 KB\u001b[0m \u001b[31m8.3 MB/s\u001b[0m eta \u001b[36m0:00:00\u001b[0m\n",
            "\u001b[?25h"
          ]
        }
      ]
    },
    {
      "cell_type": "markdown",
      "source": [
        "### 랜덤포레스트 모델을 사용해서 학습\n",
        "- 분류기 : ran_clf\n",
        "- F1 score : 0.916"
      ],
      "metadata": {
        "id": "CukjOslOgdhZ"
      }
    },
    {
      "cell_type": "code",
      "source": [
        "ran_clf = RandomForestClassifier(random_state=CFG.SEED)\n",
        "ran_clf.fit(X_train_scaled, y_train_scaled)\n",
        "ran_pred_scaled = ran_clf.predict(X_test_scaled)"
      ],
      "metadata": {
        "id": "QPfzlV4qJ2VY"
      },
      "execution_count": null,
      "outputs": []
    },
    {
      "cell_type": "code",
      "source": [
        "#원 핫 인코딩 -> 라벨 -> \n",
        "index = np.argmax(ran_pred_scaled, axis=1)\n",
        "ran_pred = pd.DataFrame()\n",
        "ran_pred = target_label.inverse_transform(index)"
      ],
      "metadata": {
        "id": "sTzRTvdq6gZj"
      },
      "execution_count": null,
      "outputs": []
    },
    {
      "cell_type": "code",
      "source": [
        "get_clf_eval(y_test, ran_pred)"
      ],
      "metadata": {
        "colab": {
          "base_uri": "https://localhost:8080/"
        },
        "id": "eXmfD5foaxiU",
        "outputId": "bdae78d0-4361-45c6-9fd8-fb5a64579621"
      },
      "execution_count": null,
      "outputs": [
        {
          "output_type": "stream",
          "name": "stdout",
          "text": [
            "오차행렬\n",
            "[[14  0  0]\n",
            " [ 0 23  0]\n",
            " [ 2  2 12]]\n",
            "정확도 : 92.5%\n",
            "정밀도 : 93.2%\n",
            "재현율 : 91.7%\n",
            "Macro F1 score : 0.9162698412698412\n"
          ]
        }
      ]
    },
    {
      "cell_type": "markdown",
      "source": [
        "### PCA를 통해 변환한 데이터셋이 좀더 정확도가 상승했다"
      ],
      "metadata": {
        "id": "U1QJc6bRI0ur"
      }
    },
    {
      "cell_type": "code",
      "source": [
        "ran_clf_1 = RandomForestClassifier(random_state=CFG.SEED)\n",
        "ran_clf_1.fit(X_train_pca, y_train_scaled_)\n",
        "ran_pred_scaled_1 = ran_clf_1.predict(X_test_pca)"
      ],
      "metadata": {
        "id": "6qPo21NJIMfB"
      },
      "execution_count": null,
      "outputs": []
    },
    {
      "cell_type": "code",
      "source": [
        "ran_pred_1 = target_label.inverse_transform(ran_pred_scaled_1)"
      ],
      "metadata": {
        "id": "TrhQ7-nlIjwn"
      },
      "execution_count": null,
      "outputs": []
    },
    {
      "cell_type": "code",
      "source": [
        "get_clf_eval(y_test, ran_pred_1)"
      ],
      "metadata": {
        "colab": {
          "base_uri": "https://localhost:8080/"
        },
        "id": "WTvQSy0EItV5",
        "outputId": "d7459b1e-a526-409c-ff37-7084e6b45091"
      },
      "execution_count": null,
      "outputs": [
        {
          "output_type": "stream",
          "name": "stdout",
          "text": [
            "오차행렬\n",
            "[[14  0  0]\n",
            " [ 0 22  1]\n",
            " [ 0  3 13]]\n",
            "정확도 : 92.5%\n",
            "정밀도 : 93.6%\n",
            "재현율 : 92.3%\n",
            "Macro F1 score : 0.9277777777777777\n"
          ]
        }
      ]
    },
    {
      "cell_type": "markdown",
      "source": [
        "### GBM 모델을 사용해서 학습\n",
        "- 분류기 : gb_clf\n",
        "- F1 score : 0.9638\n",
        "- 파라미터 튜닝후 F1 score : 0.9638"
      ],
      "metadata": {
        "id": "wgfe2sbS3J7m"
      }
    },
    {
      "cell_type": "code",
      "source": [
        "from sklearn.ensemble import GradientBoostingClassifier\n",
        "\n",
        "gb_clf = GradientBoostingClassifier(random_state=CFG.SEED)\n",
        "gb_clf.fit(X_train_scaled, y_train_scaled_)\n",
        "gb_pred_scaled_ = gb_clf.predict(X_test_scaled)"
      ],
      "metadata": {
        "id": "DFIH6UZm3ScX"
      },
      "execution_count": null,
      "outputs": []
    },
    {
      "cell_type": "code",
      "source": [
        "# 라벨인코더 -> 타겟\n",
        "gb_pred = target_label.inverse_transform(gb_pred_scaled_)"
      ],
      "metadata": {
        "id": "mRSXQewc6Xqe"
      },
      "execution_count": null,
      "outputs": []
    },
    {
      "cell_type": "code",
      "source": [
        "get_clf_eval(y_test, gb_pred)"
      ],
      "metadata": {
        "colab": {
          "base_uri": "https://localhost:8080/"
        },
        "id": "0w50Yvi27D0R",
        "outputId": "ec951c0c-49a1-4a1c-856f-08c67c079b01"
      },
      "execution_count": null,
      "outputs": [
        {
          "output_type": "stream",
          "name": "stdout",
          "text": [
            "오차행렬\n",
            "[[14  0  0]\n",
            " [ 0 23  0]\n",
            " [ 0  2 14]]\n",
            "정확도 : 96.2%\n",
            "정밀도 : 97.3%\n",
            "재현율 : 95.8%\n",
            "Macro F1 score : 0.9638888888888889\n"
          ]
        }
      ]
    },
    {
      "cell_type": "code",
      "source": [
        "gb_clf.get_params()"
      ],
      "metadata": {
        "colab": {
          "base_uri": "https://localhost:8080/"
        },
        "id": "E32YsLmV-0U7",
        "outputId": "10fba33d-54bc-4049-c3a9-073486b02819"
      },
      "execution_count": null,
      "outputs": [
        {
          "output_type": "execute_result",
          "data": {
            "text/plain": [
              "{'ccp_alpha': 0.0,\n",
              " 'criterion': 'friedman_mse',\n",
              " 'init': None,\n",
              " 'learning_rate': 0.1,\n",
              " 'loss': 'deviance',\n",
              " 'max_depth': 3,\n",
              " 'max_features': None,\n",
              " 'max_leaf_nodes': None,\n",
              " 'min_impurity_decrease': 0.0,\n",
              " 'min_samples_leaf': 1,\n",
              " 'min_samples_split': 2,\n",
              " 'min_weight_fraction_leaf': 0.0,\n",
              " 'n_estimators': 100,\n",
              " 'n_iter_no_change': None,\n",
              " 'random_state': 42,\n",
              " 'subsample': 1.0,\n",
              " 'tol': 0.0001,\n",
              " 'validation_fraction': 0.1,\n",
              " 'verbose': 0,\n",
              " 'warm_start': False}"
            ]
          },
          "metadata": {},
          "execution_count": 38
        }
      ]
    },
    {
      "cell_type": "code",
      "source": [
        "from skopt import BayesSearchCV\n",
        "\n",
        "gb_clf = GradientBoostingClassifier(random_state=CFG.SEED)\n",
        "\n",
        "gb_opt = BayesSearchCV(\n",
        "    gb_clf,\n",
        "    {\n",
        "    'n_estimators' : (100, 1000),\n",
        "    'min_samples_split': (2,4),\n",
        "    'learning_rate': (0.01, 0.1)\n",
        "    },\n",
        "    n_iter = 10,\n",
        "    cv = 5\n",
        ")\n",
        "\n",
        "gb_opt.fit(X_train_scaled, y_train_scaled_)\n",
        "\n",
        "gb_opt_pred_scaled_ = gb_opt.predict(X_test_scaled)"
      ],
      "metadata": {
        "id": "Y6t4qVBV-6gk"
      },
      "execution_count": null,
      "outputs": []
    },
    {
      "cell_type": "code",
      "source": [
        "gb_opt_pred = target_label.inverse_transform(gb_opt_pred_scaled_)"
      ],
      "metadata": {
        "id": "yOSTgkg4AH6i"
      },
      "execution_count": null,
      "outputs": []
    },
    {
      "cell_type": "code",
      "source": [
        "get_clf_eval(y_test, gb_opt_pred)"
      ],
      "metadata": {
        "colab": {
          "base_uri": "https://localhost:8080/"
        },
        "id": "FF8dkYwuAMEV",
        "outputId": "84590f06-5f6a-47b0-b76b-43acd6afc4c6"
      },
      "execution_count": null,
      "outputs": [
        {
          "output_type": "stream",
          "name": "stdout",
          "text": [
            "오차행렬\n",
            "[[14  0  0]\n",
            " [ 0 23  0]\n",
            " [ 0  2 14]]\n",
            "정확도 : 96.2%\n",
            "정밀도 : 97.3%\n",
            "재현율 : 95.8%\n",
            "Macro F1 score : 0.9638888888888889\n"
          ]
        }
      ]
    },
    {
      "cell_type": "code",
      "source": [
        "gb_opt.best_params_"
      ],
      "metadata": {
        "colab": {
          "base_uri": "https://localhost:8080/"
        },
        "id": "2eHLf0caAPkj",
        "outputId": "9c59f146-7da0-4591-d3c8-657f0ea26d22"
      },
      "execution_count": null,
      "outputs": [
        {
          "output_type": "execute_result",
          "data": {
            "text/plain": [
              "OrderedDict([('learning_rate', 0.050034926107103674),\n",
              "             ('min_samples_split', 4),\n",
              "             ('n_estimators', 194)])"
            ]
          },
          "metadata": {},
          "execution_count": 42
        }
      ]
    },
    {
      "cell_type": "markdown",
      "source": [
        "### Linear SVC 모델을 이용해 학습\n",
        "- 분류기 : svm\n",
        "- F1 score : 0.927\n",
        "- 파라미터 튜닝후 : 0.982"
      ],
      "metadata": {
        "id": "1gDN6Wdl7RR5"
      }
    },
    {
      "cell_type": "code",
      "source": [
        "from sklearn.svm import LinearSVC\n",
        "\n",
        "svm = LinearSVC(random_state=CFG.SEED)\n",
        "svm.fit(X_train_scaled, y_train_scaled_)\n",
        "svm_pred_scaled_ = svm.predict(X_test_scaled)"
      ],
      "metadata": {
        "id": "Ol5XS6Pe83WP"
      },
      "execution_count": null,
      "outputs": []
    },
    {
      "cell_type": "code",
      "source": [
        "# 라벨인코더 -> 타겟\n",
        "svm_pred = target_label.inverse_transform(svm_pred_scaled_)"
      ],
      "metadata": {
        "id": "cM2SXD4t9R0m"
      },
      "execution_count": null,
      "outputs": []
    },
    {
      "cell_type": "code",
      "source": [
        "get_clf_eval(y_test, svm_pred)"
      ],
      "metadata": {
        "colab": {
          "base_uri": "https://localhost:8080/"
        },
        "id": "MIDKxRvF8-KZ",
        "outputId": "1231dfd1-0db3-42a2-8283-66e5065f7d45"
      },
      "execution_count": null,
      "outputs": [
        {
          "output_type": "stream",
          "name": "stdout",
          "text": [
            "오차행렬\n",
            "[[14  0  0]\n",
            " [ 0 22  1]\n",
            " [ 0  3 13]]\n",
            "정확도 : 92.5%\n",
            "정밀도 : 93.6%\n",
            "재현율 : 92.3%\n",
            "Macro F1 score : 0.9277777777777777\n"
          ]
        }
      ]
    },
    {
      "cell_type": "code",
      "source": [
        "#svm의 하이퍼파라미터를 조회해보자\n",
        "svm.get_params()"
      ],
      "metadata": {
        "colab": {
          "base_uri": "https://localhost:8080/"
        },
        "id": "VXQhspEm9o-y",
        "outputId": "26049e45-20cd-4af6-db1b-047bb9cdcec7"
      },
      "execution_count": null,
      "outputs": [
        {
          "output_type": "execute_result",
          "data": {
            "text/plain": [
              "{'C': 1.0,\n",
              " 'class_weight': None,\n",
              " 'dual': True,\n",
              " 'fit_intercept': True,\n",
              " 'intercept_scaling': 1,\n",
              " 'loss': 'squared_hinge',\n",
              " 'max_iter': 1000,\n",
              " 'multi_class': 'ovr',\n",
              " 'penalty': 'l2',\n",
              " 'random_state': 42,\n",
              " 'tol': 0.0001,\n",
              " 'verbose': 0}"
            ]
          },
          "metadata": {},
          "execution_count": 46
        }
      ]
    },
    {
      "cell_type": "code",
      "source": [
        "from skopt import BayesSearchCV\n",
        "\n",
        "svm = LinearSVC(random_state=CFG.SEED)\n",
        "\n",
        "svm_opt = BayesSearchCV(\n",
        "    svm,\n",
        "    {'C' : (10.0, 100.0, 'log-uniform'),\n",
        "     'max_iter': (1000, 10000),\n",
        "    },\n",
        "    n_iter = 10,\n",
        "    cv = 5\n",
        ")\n",
        "\n",
        "svm_opt.fit(X_train_scaled, y_train_scaled_)\n",
        "\n",
        "svm_opt_pred_scaled_ = svm_opt.predict(X_test_scaled)"
      ],
      "metadata": {
        "id": "M719DI6c915F",
        "colab": {
          "base_uri": "https://localhost:8080/"
        },
        "outputId": "eb401b81-540f-48c9-848e-e66133af5628"
      },
      "execution_count": null,
      "outputs": [
        {
          "output_type": "stream",
          "name": "stderr",
          "text": [
            "/usr/local/lib/python3.8/dist-packages/sklearn/svm/_base.py:1206: ConvergenceWarning: Liblinear failed to converge, increase the number of iterations.\n",
            "  warnings.warn(\n",
            "/usr/local/lib/python3.8/dist-packages/sklearn/svm/_base.py:1206: ConvergenceWarning: Liblinear failed to converge, increase the number of iterations.\n",
            "  warnings.warn(\n",
            "/usr/local/lib/python3.8/dist-packages/sklearn/svm/_base.py:1206: ConvergenceWarning: Liblinear failed to converge, increase the number of iterations.\n",
            "  warnings.warn(\n",
            "/usr/local/lib/python3.8/dist-packages/sklearn/svm/_base.py:1206: ConvergenceWarning: Liblinear failed to converge, increase the number of iterations.\n",
            "  warnings.warn(\n",
            "/usr/local/lib/python3.8/dist-packages/sklearn/svm/_base.py:1206: ConvergenceWarning: Liblinear failed to converge, increase the number of iterations.\n",
            "  warnings.warn(\n",
            "/usr/local/lib/python3.8/dist-packages/sklearn/svm/_base.py:1206: ConvergenceWarning: Liblinear failed to converge, increase the number of iterations.\n",
            "  warnings.warn(\n",
            "/usr/local/lib/python3.8/dist-packages/sklearn/svm/_base.py:1206: ConvergenceWarning: Liblinear failed to converge, increase the number of iterations.\n",
            "  warnings.warn(\n",
            "/usr/local/lib/python3.8/dist-packages/sklearn/svm/_base.py:1206: ConvergenceWarning: Liblinear failed to converge, increase the number of iterations.\n",
            "  warnings.warn(\n",
            "/usr/local/lib/python3.8/dist-packages/sklearn/svm/_base.py:1206: ConvergenceWarning: Liblinear failed to converge, increase the number of iterations.\n",
            "  warnings.warn(\n",
            "/usr/local/lib/python3.8/dist-packages/sklearn/svm/_base.py:1206: ConvergenceWarning: Liblinear failed to converge, increase the number of iterations.\n",
            "  warnings.warn(\n",
            "/usr/local/lib/python3.8/dist-packages/sklearn/svm/_base.py:1206: ConvergenceWarning: Liblinear failed to converge, increase the number of iterations.\n",
            "  warnings.warn(\n",
            "/usr/local/lib/python3.8/dist-packages/sklearn/svm/_base.py:1206: ConvergenceWarning: Liblinear failed to converge, increase the number of iterations.\n",
            "  warnings.warn(\n",
            "/usr/local/lib/python3.8/dist-packages/sklearn/svm/_base.py:1206: ConvergenceWarning: Liblinear failed to converge, increase the number of iterations.\n",
            "  warnings.warn(\n",
            "/usr/local/lib/python3.8/dist-packages/sklearn/svm/_base.py:1206: ConvergenceWarning: Liblinear failed to converge, increase the number of iterations.\n",
            "  warnings.warn(\n",
            "/usr/local/lib/python3.8/dist-packages/sklearn/svm/_base.py:1206: ConvergenceWarning: Liblinear failed to converge, increase the number of iterations.\n",
            "  warnings.warn(\n",
            "/usr/local/lib/python3.8/dist-packages/sklearn/svm/_base.py:1206: ConvergenceWarning: Liblinear failed to converge, increase the number of iterations.\n",
            "  warnings.warn(\n",
            "/usr/local/lib/python3.8/dist-packages/sklearn/svm/_base.py:1206: ConvergenceWarning: Liblinear failed to converge, increase the number of iterations.\n",
            "  warnings.warn(\n",
            "/usr/local/lib/python3.8/dist-packages/sklearn/svm/_base.py:1206: ConvergenceWarning: Liblinear failed to converge, increase the number of iterations.\n",
            "  warnings.warn(\n",
            "/usr/local/lib/python3.8/dist-packages/sklearn/svm/_base.py:1206: ConvergenceWarning: Liblinear failed to converge, increase the number of iterations.\n",
            "  warnings.warn(\n",
            "/usr/local/lib/python3.8/dist-packages/sklearn/svm/_base.py:1206: ConvergenceWarning: Liblinear failed to converge, increase the number of iterations.\n",
            "  warnings.warn(\n",
            "/usr/local/lib/python3.8/dist-packages/sklearn/svm/_base.py:1206: ConvergenceWarning: Liblinear failed to converge, increase the number of iterations.\n",
            "  warnings.warn(\n",
            "/usr/local/lib/python3.8/dist-packages/sklearn/svm/_base.py:1206: ConvergenceWarning: Liblinear failed to converge, increase the number of iterations.\n",
            "  warnings.warn(\n",
            "/usr/local/lib/python3.8/dist-packages/sklearn/svm/_base.py:1206: ConvergenceWarning: Liblinear failed to converge, increase the number of iterations.\n",
            "  warnings.warn(\n",
            "/usr/local/lib/python3.8/dist-packages/sklearn/svm/_base.py:1206: ConvergenceWarning: Liblinear failed to converge, increase the number of iterations.\n",
            "  warnings.warn(\n",
            "/usr/local/lib/python3.8/dist-packages/sklearn/svm/_base.py:1206: ConvergenceWarning: Liblinear failed to converge, increase the number of iterations.\n",
            "  warnings.warn(\n",
            "/usr/local/lib/python3.8/dist-packages/sklearn/svm/_base.py:1206: ConvergenceWarning: Liblinear failed to converge, increase the number of iterations.\n",
            "  warnings.warn(\n",
            "/usr/local/lib/python3.8/dist-packages/sklearn/svm/_base.py:1206: ConvergenceWarning: Liblinear failed to converge, increase the number of iterations.\n",
            "  warnings.warn(\n",
            "/usr/local/lib/python3.8/dist-packages/sklearn/svm/_base.py:1206: ConvergenceWarning: Liblinear failed to converge, increase the number of iterations.\n",
            "  warnings.warn(\n",
            "/usr/local/lib/python3.8/dist-packages/sklearn/svm/_base.py:1206: ConvergenceWarning: Liblinear failed to converge, increase the number of iterations.\n",
            "  warnings.warn(\n",
            "/usr/local/lib/python3.8/dist-packages/sklearn/svm/_base.py:1206: ConvergenceWarning: Liblinear failed to converge, increase the number of iterations.\n",
            "  warnings.warn(\n",
            "/usr/local/lib/python3.8/dist-packages/sklearn/svm/_base.py:1206: ConvergenceWarning: Liblinear failed to converge, increase the number of iterations.\n",
            "  warnings.warn(\n",
            "/usr/local/lib/python3.8/dist-packages/sklearn/svm/_base.py:1206: ConvergenceWarning: Liblinear failed to converge, increase the number of iterations.\n",
            "  warnings.warn(\n",
            "/usr/local/lib/python3.8/dist-packages/sklearn/svm/_base.py:1206: ConvergenceWarning: Liblinear failed to converge, increase the number of iterations.\n",
            "  warnings.warn(\n",
            "/usr/local/lib/python3.8/dist-packages/sklearn/svm/_base.py:1206: ConvergenceWarning: Liblinear failed to converge, increase the number of iterations.\n",
            "  warnings.warn(\n",
            "/usr/local/lib/python3.8/dist-packages/sklearn/svm/_base.py:1206: ConvergenceWarning: Liblinear failed to converge, increase the number of iterations.\n",
            "  warnings.warn(\n",
            "/usr/local/lib/python3.8/dist-packages/sklearn/svm/_base.py:1206: ConvergenceWarning: Liblinear failed to converge, increase the number of iterations.\n",
            "  warnings.warn(\n",
            "/usr/local/lib/python3.8/dist-packages/sklearn/svm/_base.py:1206: ConvergenceWarning: Liblinear failed to converge, increase the number of iterations.\n",
            "  warnings.warn(\n",
            "/usr/local/lib/python3.8/dist-packages/sklearn/svm/_base.py:1206: ConvergenceWarning: Liblinear failed to converge, increase the number of iterations.\n",
            "  warnings.warn(\n",
            "/usr/local/lib/python3.8/dist-packages/sklearn/svm/_base.py:1206: ConvergenceWarning: Liblinear failed to converge, increase the number of iterations.\n",
            "  warnings.warn(\n",
            "/usr/local/lib/python3.8/dist-packages/sklearn/svm/_base.py:1206: ConvergenceWarning: Liblinear failed to converge, increase the number of iterations.\n",
            "  warnings.warn(\n",
            "/usr/local/lib/python3.8/dist-packages/sklearn/svm/_base.py:1206: ConvergenceWarning: Liblinear failed to converge, increase the number of iterations.\n",
            "  warnings.warn(\n",
            "/usr/local/lib/python3.8/dist-packages/sklearn/svm/_base.py:1206: ConvergenceWarning: Liblinear failed to converge, increase the number of iterations.\n",
            "  warnings.warn(\n"
          ]
        }
      ]
    },
    {
      "cell_type": "code",
      "source": [
        "svm_opt_pred = target_label.inverse_transform(svm_opt_pred_scaled_)"
      ],
      "metadata": {
        "id": "J8o9p3SV-Jop"
      },
      "execution_count": null,
      "outputs": []
    },
    {
      "cell_type": "code",
      "source": [
        "get_clf_eval(y_test, svm_opt_pred)"
      ],
      "metadata": {
        "colab": {
          "base_uri": "https://localhost:8080/"
        },
        "id": "v2MMnddO-Yif",
        "outputId": "00dfa049-aea6-42f1-9058-fad4d4f5feef"
      },
      "execution_count": null,
      "outputs": [
        {
          "output_type": "stream",
          "name": "stdout",
          "text": [
            "오차행렬\n",
            "[[14  0  0]\n",
            " [ 0 23  0]\n",
            " [ 0  1 15]]\n",
            "정확도 : 98.1%\n",
            "정밀도 : 98.6%\n",
            "재현율 : 97.9%\n",
            "Macro F1 score : 0.9821551132463967\n"
          ]
        }
      ]
    },
    {
      "cell_type": "code",
      "source": [
        "svm_opt.best_params_"
      ],
      "metadata": {
        "colab": {
          "base_uri": "https://localhost:8080/"
        },
        "id": "_-zaMIfl-t15",
        "outputId": "aa46fa21-bce3-4c99-e5b7-95231fe0040c"
      },
      "execution_count": null,
      "outputs": [
        {
          "output_type": "execute_result",
          "data": {
            "text/plain": [
              "OrderedDict([('C', 37.540218527310444), ('max_iter', 4432)])"
            ]
          },
          "metadata": {},
          "execution_count": 50
        }
      ]
    },
    {
      "cell_type": "markdown",
      "source": [
        "### KNN을 이용한 분류기\n"
      ],
      "metadata": {
        "id": "B-LH9kDcmrhw"
      }
    },
    {
      "cell_type": "code",
      "source": [
        "from sklearn.neighbors import KNeighborsClassifier \n",
        "knn_clf = KNeighborsClassifier(n_neighbors=5, n_jobs=-1)"
      ],
      "metadata": {
        "id": "hw-6v8G4m0S1"
      },
      "execution_count": null,
      "outputs": []
    },
    {
      "cell_type": "markdown",
      "source": [
        "### 로지스틱 분류기\n"
      ],
      "metadata": {
        "id": "QsG5Kpmxos1p"
      }
    },
    {
      "cell_type": "code",
      "source": [
        "from sklearn.linear_model import LogisticRegression\n",
        "\n",
        "logit = LogisticRegression()"
      ],
      "metadata": {
        "id": "avuBVJa9pEs3"
      },
      "execution_count": null,
      "outputs": []
    },
    {
      "cell_type": "markdown",
      "source": [
        "### 스태킹모델을 이용해 성능을 끌어올려보자\n",
        "- KNN : knn_clf\n",
        "- Random Forest : ran_clf\n",
        "- SVC : svm_opt\n",
        "- GBM : gb_opt\n",
        "- Logistic : logit\n",
        "\n"
      ],
      "metadata": {
        "id": "JxpX2JLjmPbz"
      }
    },
    {
      "cell_type": "code",
      "source": [
        "from sklearn.model_selection import KFold\n",
        "\n",
        "# 메타 모델을 위한 학습 및 테스트 데이터 만들기\n",
        "def get_stacking_base_datasets(model, X_train_n, y_train_n, X_test_n, n_folds):\n",
        "    kf = KFold(n_splits=n_folds, shuffle=True, random_state=CFG.SEED)\n",
        "    # 빈 배열 생성\n",
        "    train_fold_pred = np.zeros((X_train_n.shape[0],1))\n",
        "    test_pred = np.zeros((X_test_n.shape[0],n_folds))\n",
        "    \n",
        "    \n",
        "    for folder_counter, (train_index, valid_index) in enumerate(kf.split(X_train_n)):\n",
        "        print('폴드 세트 : ', folder_counter, ' 시작')\n",
        "        X_tr = X_train_n[train_index]\n",
        "        y_tr = y_train_n[train_index]\n",
        "        X_te = X_train_n[valid_index] \n",
        "        \n",
        "        # 폴드 내 모델 학습\n",
        "        model.fit(X_tr, y_tr)\n",
        "        train_fold_pred[valid_index, :] = model.predict(X_te).reshape(-1,1) # y_train 예측, 폴드 끝나면 concat해야함\n",
        "        test_pred[:, folder_counter] = model.predict(X_test_n) # y_test 예측, 폴드 끝나면 평균 낼거임\n",
        "        \n",
        "    test_pred_mean = np.mean(test_pred, axis=1).reshape(-1,1)\n",
        "    \n",
        "    return train_fold_pred, test_pred_mean # 하나의 모델에 대한 학습데이터, 테스트 데이터 생성"
      ],
      "metadata": {
        "id": "L_HfNdFpsqof"
      },
      "execution_count": null,
      "outputs": []
    },
    {
      "cell_type": "code",
      "source": [
        "from sklearn.neighbors import KNeighborsClassifier\n",
        "from sklearn.ensemble import RandomForestClassifier\n",
        "from sklearn.ensemble import AdaBoostClassifier\n",
        "from sklearn.linear_model import LogisticRegression\n",
        "from sklearn.linear_model import LogisticRegression # 메타 모델\n",
        "\n",
        "# 객체 생성\n",
        "#knn_clf = KNeighborsClassifier()\n",
        "rf_clf = RandomForestClassifier()\n",
        "ada_clf = AdaBoostClassifier()\n",
        "#svm_opt\n",
        "#gb_opt\n",
        "logit = LogisticRegression()\n",
        "lr_final = LogisticRegression()\n",
        "\n",
        "# 개별 모델로부터 메타 모델에 필요한 데이터 셋 만들기\n",
        "#knn_train, knn_test = get_stacking_base_datasets(knn_clf, X_train_scaled, y_train_scaled_, X_test_scaled, 7)\n",
        "rf_train, rf_test = get_stacking_base_datasets(rf_clf, X_train_scaled, y_train_scaled_, X_test_scaled, 7)\n",
        "ada_train, ada_test = get_stacking_base_datasets(ada_clf, X_train_scaled, y_train_scaled_, X_test_scaled, 7)\n",
        "svm_train, svm_test = get_stacking_base_datasets(svm_opt, X_train_scaled, y_train_scaled_, X_test_scaled, 7)\n",
        "gb_train, gb_test = get_stacking_base_datasets(gb_opt, X_train_scaled, y_train_scaled_, X_test_scaled, 7)\n",
        "logit_train, logit_test = get_stacking_base_datasets(logit, X_train_scaled, y_train_scaled_, X_test_scaled, 7)\n",
        "\n",
        "# 개별 모델로부터 나온 y_train 예측값들 옆으로 붙이기\n",
        "Stack_final_X_train = np.concatenate((rf_train,ada_train,svm_train,gb_train,logit_train), axis=1)\n",
        "# 개별 모델로부터 나온 y_test 예측값들 옆으로 붙이기\n",
        "Stack_final_X_test = np.concatenate((rf_train,ada_train,svm_train,gb_train,logit_train), axis=1)\n",
        "\n",
        "lr_final.fit(Stack_final_X_train, y_train_scaled_)\n",
        "stack_final = lr_final.predict(Stack_final_X_test) "
      ],
      "metadata": {
        "id": "L2BRib47xx7A",
        "colab": {
          "base_uri": "https://localhost:8080/",
          "height": 402
        },
        "outputId": "2f45f3ec-7578-4275-e662-ec29120c39a8"
      },
      "execution_count": null,
      "outputs": [
        {
          "output_type": "stream",
          "name": "stdout",
          "text": [
            "폴드 세트 :  0  시작\n"
          ]
        },
        {
          "output_type": "error",
          "ename": "KeyError",
          "evalue": "ignored",
          "traceback": [
            "\u001b[0;31m---------------------------------------------------------------------------\u001b[0m",
            "\u001b[0;31mKeyError\u001b[0m                                  Traceback (most recent call last)",
            "\u001b[0;32m<ipython-input-54-11cdb737c16b>\u001b[0m in \u001b[0;36m<module>\u001b[0;34m\u001b[0m\n\u001b[1;32m     16\u001b[0m \u001b[0;31m# 개별 모델로부터 메타 모델에 필요한 데이터 셋 만들기\u001b[0m\u001b[0;34m\u001b[0m\u001b[0;34m\u001b[0m\u001b[0;34m\u001b[0m\u001b[0m\n\u001b[1;32m     17\u001b[0m \u001b[0;31m#knn_train, knn_test = get_stacking_base_datasets(knn_clf, X_train_scaled, y_train_scaled_, X_test_scaled, 7)\u001b[0m\u001b[0;34m\u001b[0m\u001b[0;34m\u001b[0m\u001b[0;34m\u001b[0m\u001b[0m\n\u001b[0;32m---> 18\u001b[0;31m \u001b[0mrf_train\u001b[0m\u001b[0;34m,\u001b[0m \u001b[0mrf_test\u001b[0m \u001b[0;34m=\u001b[0m \u001b[0mget_stacking_base_datasets\u001b[0m\u001b[0;34m(\u001b[0m\u001b[0mrf_clf\u001b[0m\u001b[0;34m,\u001b[0m \u001b[0mX_train_scaled\u001b[0m\u001b[0;34m,\u001b[0m \u001b[0my_train_scaled_\u001b[0m\u001b[0;34m,\u001b[0m \u001b[0mX_test_scaled\u001b[0m\u001b[0;34m,\u001b[0m \u001b[0;36m7\u001b[0m\u001b[0;34m)\u001b[0m\u001b[0;34m\u001b[0m\u001b[0;34m\u001b[0m\u001b[0m\n\u001b[0m\u001b[1;32m     19\u001b[0m \u001b[0mada_train\u001b[0m\u001b[0;34m,\u001b[0m \u001b[0mada_test\u001b[0m \u001b[0;34m=\u001b[0m \u001b[0mget_stacking_base_datasets\u001b[0m\u001b[0;34m(\u001b[0m\u001b[0mada_clf\u001b[0m\u001b[0;34m,\u001b[0m \u001b[0mX_train_scaled\u001b[0m\u001b[0;34m,\u001b[0m \u001b[0my_train_scaled_\u001b[0m\u001b[0;34m,\u001b[0m \u001b[0mX_test_scaled\u001b[0m\u001b[0;34m,\u001b[0m \u001b[0;36m7\u001b[0m\u001b[0;34m)\u001b[0m\u001b[0;34m\u001b[0m\u001b[0;34m\u001b[0m\u001b[0m\n\u001b[1;32m     20\u001b[0m \u001b[0msvm_train\u001b[0m\u001b[0;34m,\u001b[0m \u001b[0msvm_test\u001b[0m \u001b[0;34m=\u001b[0m \u001b[0mget_stacking_base_datasets\u001b[0m\u001b[0;34m(\u001b[0m\u001b[0msvm_opt\u001b[0m\u001b[0;34m,\u001b[0m \u001b[0mX_train_scaled\u001b[0m\u001b[0;34m,\u001b[0m \u001b[0my_train_scaled_\u001b[0m\u001b[0;34m,\u001b[0m \u001b[0mX_test_scaled\u001b[0m\u001b[0;34m,\u001b[0m \u001b[0;36m7\u001b[0m\u001b[0;34m)\u001b[0m\u001b[0;34m\u001b[0m\u001b[0;34m\u001b[0m\u001b[0m\n",
            "\u001b[0;32m<ipython-input-53-83e7bb74596c>\u001b[0m in \u001b[0;36mget_stacking_base_datasets\u001b[0;34m(model, X_train_n, y_train_n, X_test_n, n_folds)\u001b[0m\n\u001b[1;32m     11\u001b[0m     \u001b[0;32mfor\u001b[0m \u001b[0mfolder_counter\u001b[0m\u001b[0;34m,\u001b[0m \u001b[0;34m(\u001b[0m\u001b[0mtrain_index\u001b[0m\u001b[0;34m,\u001b[0m \u001b[0mvalid_index\u001b[0m\u001b[0;34m)\u001b[0m \u001b[0;32min\u001b[0m \u001b[0menumerate\u001b[0m\u001b[0;34m(\u001b[0m\u001b[0mkf\u001b[0m\u001b[0;34m.\u001b[0m\u001b[0msplit\u001b[0m\u001b[0;34m(\u001b[0m\u001b[0mX_train_n\u001b[0m\u001b[0;34m)\u001b[0m\u001b[0;34m)\u001b[0m\u001b[0;34m:\u001b[0m\u001b[0;34m\u001b[0m\u001b[0;34m\u001b[0m\u001b[0m\n\u001b[1;32m     12\u001b[0m         \u001b[0mprint\u001b[0m\u001b[0;34m(\u001b[0m\u001b[0;34m'폴드 세트 : '\u001b[0m\u001b[0;34m,\u001b[0m \u001b[0mfolder_counter\u001b[0m\u001b[0;34m,\u001b[0m \u001b[0;34m' 시작'\u001b[0m\u001b[0;34m)\u001b[0m\u001b[0;34m\u001b[0m\u001b[0;34m\u001b[0m\u001b[0m\n\u001b[0;32m---> 13\u001b[0;31m         \u001b[0mX_tr\u001b[0m \u001b[0;34m=\u001b[0m \u001b[0mX_train_n\u001b[0m\u001b[0;34m[\u001b[0m\u001b[0mtrain_index\u001b[0m\u001b[0;34m]\u001b[0m\u001b[0;34m\u001b[0m\u001b[0;34m\u001b[0m\u001b[0m\n\u001b[0m\u001b[1;32m     14\u001b[0m         \u001b[0my_tr\u001b[0m \u001b[0;34m=\u001b[0m \u001b[0my_train_n\u001b[0m\u001b[0;34m[\u001b[0m\u001b[0mtrain_index\u001b[0m\u001b[0;34m]\u001b[0m\u001b[0;34m\u001b[0m\u001b[0;34m\u001b[0m\u001b[0m\n\u001b[1;32m     15\u001b[0m         \u001b[0mX_te\u001b[0m \u001b[0;34m=\u001b[0m \u001b[0mX_train_n\u001b[0m\u001b[0;34m[\u001b[0m\u001b[0mvalid_index\u001b[0m\u001b[0;34m]\u001b[0m\u001b[0;34m\u001b[0m\u001b[0;34m\u001b[0m\u001b[0m\n",
            "\u001b[0;32m/usr/local/lib/python3.8/dist-packages/pandas/core/frame.py\u001b[0m in \u001b[0;36m__getitem__\u001b[0;34m(self, key)\u001b[0m\n\u001b[1;32m   3462\u001b[0m             \u001b[0;32mif\u001b[0m \u001b[0mis_iterator\u001b[0m\u001b[0;34m(\u001b[0m\u001b[0mkey\u001b[0m\u001b[0;34m)\u001b[0m\u001b[0;34m:\u001b[0m\u001b[0;34m\u001b[0m\u001b[0;34m\u001b[0m\u001b[0m\n\u001b[1;32m   3463\u001b[0m                 \u001b[0mkey\u001b[0m \u001b[0;34m=\u001b[0m \u001b[0mlist\u001b[0m\u001b[0;34m(\u001b[0m\u001b[0mkey\u001b[0m\u001b[0;34m)\u001b[0m\u001b[0;34m\u001b[0m\u001b[0;34m\u001b[0m\u001b[0m\n\u001b[0;32m-> 3464\u001b[0;31m             \u001b[0mindexer\u001b[0m \u001b[0;34m=\u001b[0m \u001b[0mself\u001b[0m\u001b[0;34m.\u001b[0m\u001b[0mloc\u001b[0m\u001b[0;34m.\u001b[0m\u001b[0m_get_listlike_indexer\u001b[0m\u001b[0;34m(\u001b[0m\u001b[0mkey\u001b[0m\u001b[0;34m,\u001b[0m \u001b[0maxis\u001b[0m\u001b[0;34m=\u001b[0m\u001b[0;36m1\u001b[0m\u001b[0;34m)\u001b[0m\u001b[0;34m[\u001b[0m\u001b[0;36m1\u001b[0m\u001b[0;34m]\u001b[0m\u001b[0;34m\u001b[0m\u001b[0;34m\u001b[0m\u001b[0m\n\u001b[0m\u001b[1;32m   3465\u001b[0m \u001b[0;34m\u001b[0m\u001b[0m\n\u001b[1;32m   3466\u001b[0m         \u001b[0;31m# take() does not accept boolean indexers\u001b[0m\u001b[0;34m\u001b[0m\u001b[0;34m\u001b[0m\u001b[0;34m\u001b[0m\u001b[0m\n",
            "\u001b[0;32m/usr/local/lib/python3.8/dist-packages/pandas/core/indexing.py\u001b[0m in \u001b[0;36m_get_listlike_indexer\u001b[0;34m(self, key, axis)\u001b[0m\n\u001b[1;32m   1312\u001b[0m             \u001b[0mkeyarr\u001b[0m\u001b[0;34m,\u001b[0m \u001b[0mindexer\u001b[0m\u001b[0;34m,\u001b[0m \u001b[0mnew_indexer\u001b[0m \u001b[0;34m=\u001b[0m \u001b[0max\u001b[0m\u001b[0;34m.\u001b[0m\u001b[0m_reindex_non_unique\u001b[0m\u001b[0;34m(\u001b[0m\u001b[0mkeyarr\u001b[0m\u001b[0;34m)\u001b[0m\u001b[0;34m\u001b[0m\u001b[0;34m\u001b[0m\u001b[0m\n\u001b[1;32m   1313\u001b[0m \u001b[0;34m\u001b[0m\u001b[0m\n\u001b[0;32m-> 1314\u001b[0;31m         \u001b[0mself\u001b[0m\u001b[0;34m.\u001b[0m\u001b[0m_validate_read_indexer\u001b[0m\u001b[0;34m(\u001b[0m\u001b[0mkeyarr\u001b[0m\u001b[0;34m,\u001b[0m \u001b[0mindexer\u001b[0m\u001b[0;34m,\u001b[0m \u001b[0maxis\u001b[0m\u001b[0;34m)\u001b[0m\u001b[0;34m\u001b[0m\u001b[0;34m\u001b[0m\u001b[0m\n\u001b[0m\u001b[1;32m   1315\u001b[0m \u001b[0;34m\u001b[0m\u001b[0m\n\u001b[1;32m   1316\u001b[0m         if needs_i8_conversion(ax.dtype) or isinstance(\n",
            "\u001b[0;32m/usr/local/lib/python3.8/dist-packages/pandas/core/indexing.py\u001b[0m in \u001b[0;36m_validate_read_indexer\u001b[0;34m(self, key, indexer, axis)\u001b[0m\n\u001b[1;32m   1372\u001b[0m                 \u001b[0;32mif\u001b[0m \u001b[0muse_interval_msg\u001b[0m\u001b[0;34m:\u001b[0m\u001b[0;34m\u001b[0m\u001b[0;34m\u001b[0m\u001b[0m\n\u001b[1;32m   1373\u001b[0m                     \u001b[0mkey\u001b[0m \u001b[0;34m=\u001b[0m \u001b[0mlist\u001b[0m\u001b[0;34m(\u001b[0m\u001b[0mkey\u001b[0m\u001b[0;34m)\u001b[0m\u001b[0;34m\u001b[0m\u001b[0;34m\u001b[0m\u001b[0m\n\u001b[0;32m-> 1374\u001b[0;31m                 \u001b[0;32mraise\u001b[0m \u001b[0mKeyError\u001b[0m\u001b[0;34m(\u001b[0m\u001b[0;34mf\"None of [{key}] are in the [{axis_name}]\"\u001b[0m\u001b[0;34m)\u001b[0m\u001b[0;34m\u001b[0m\u001b[0;34m\u001b[0m\u001b[0m\n\u001b[0m\u001b[1;32m   1375\u001b[0m \u001b[0;34m\u001b[0m\u001b[0m\n\u001b[1;32m   1376\u001b[0m             \u001b[0mnot_found\u001b[0m \u001b[0;34m=\u001b[0m \u001b[0mlist\u001b[0m\u001b[0;34m(\u001b[0m\u001b[0mensure_index\u001b[0m\u001b[0;34m(\u001b[0m\u001b[0mkey\u001b[0m\u001b[0;34m)\u001b[0m\u001b[0;34m[\u001b[0m\u001b[0mmissing_mask\u001b[0m\u001b[0;34m.\u001b[0m\u001b[0mnonzero\u001b[0m\u001b[0;34m(\u001b[0m\u001b[0;34m)\u001b[0m\u001b[0;34m[\u001b[0m\u001b[0;36m0\u001b[0m\u001b[0;34m]\u001b[0m\u001b[0;34m]\u001b[0m\u001b[0;34m.\u001b[0m\u001b[0munique\u001b[0m\u001b[0;34m(\u001b[0m\u001b[0;34m)\u001b[0m\u001b[0;34m)\u001b[0m\u001b[0;34m\u001b[0m\u001b[0;34m\u001b[0m\u001b[0m\n",
            "\u001b[0;31mKeyError\u001b[0m: \"None of [Int64Index([  0,   1,   2,   3,   4,   5,   6,   7,   8,  10,\\n            ...\\n            197, 199, 200, 201, 202, 203, 204, 205, 207, 208],\\n           dtype='int64', length=179)] are in the [columns]\""
          ]
        }
      ]
    },
    {
      "cell_type": "markdown",
      "source": [
        "### 분류에 도움이 되는 주요한 데이터에 관해서만 학습\n",
        "- 2022년 12월 30일\n",
        "- 시도해봤는데 머신러닝에서도 딥러닝에서도 좋은 성능을 얻지 못했다\n",
        "- Xtra-tree : Macro F1 score 0.17316017316017315\n",
        "- Deeplearning : Macro F1 score 0.07165532879818594"
      ],
      "metadata": {
        "id": "uQqaC2y-8oVT"
      }
    },
    {
      "cell_type": "code",
      "source": [
        "#변수별 중요도를 이용해 특성행렬 선택후 학습\n",
        "from sklearn.feature_selection import SelectFromModel\n",
        "\n",
        "selector = SelectFromModel(ran_clf, threshold = 'median')"
      ],
      "metadata": {
        "id": "UKxdpJPP8PxW"
      },
      "execution_count": null,
      "outputs": []
    },
    {
      "cell_type": "code",
      "source": [
        "X_train_feature_important = selector.fit_transform(X_train_scaled, y_train)\n",
        "X_test_feature_important = selector.fit_transform(X_test_scaled, y_test)"
      ],
      "metadata": {
        "id": "pOtMK_nk8cY2"
      },
      "execution_count": null,
      "outputs": []
    },
    {
      "cell_type": "code",
      "source": [
        "# 엑스트라 트리로 주요변수에 대해서만 학습\n",
        "from sklearn.ensemble import ExtraTreesClassifier\n",
        "clf_important = ExtraTreesClassifier(n_estimators=100, random_state=CFG.SEED)\n",
        "clf_important.fit(X_train_feature_important, y_train)"
      ],
      "metadata": {
        "id": "DE4h6tXIZfmt"
      },
      "execution_count": null,
      "outputs": []
    },
    {
      "cell_type": "code",
      "source": [
        "pred1 = clf_important.predict(X_test_feature_important)"
      ],
      "metadata": {
        "id": "ccvnnK-ZbS0m"
      },
      "execution_count": null,
      "outputs": []
    },
    {
      "cell_type": "code",
      "source": [
        "get_clf_eval(y_test.values, preds1)"
      ],
      "metadata": {
        "id": "mEwJhJUHK2Az"
      },
      "execution_count": null,
      "outputs": []
    },
    {
      "cell_type": "code",
      "source": [
        "model = tf.keras.Sequential([\n",
        "                             tf.keras.layers.Dense(units=8, activation='relu', input_dim=X_train_feature_important.shape[1]),\n",
        "                             tf.keras.layers.Dense(units=100, activation='relu'),\n",
        "                             tf.keras.layers.Dense(units=100, activation='relu'),\n",
        "                             tf.keras.layers.Dense(units=3, activation='softmax')\n",
        "])\n",
        "\n",
        "model.compile(optimizer=tf.keras.optimizers.Adam(learning_rate=0.07),\n",
        "              loss='categorical_crossentropy', metrics=['accuracy', precision, recall, f1score])\n",
        "\n",
        "model.summary()"
      ],
      "metadata": {
        "id": "Cdl6O0ENK24m"
      },
      "execution_count": null,
      "outputs": []
    },
    {
      "cell_type": "code",
      "source": [
        "history = model.fit(X_train_feature_important, y_train, epochs=1000, batch_size=50, validation_split=0.25, callbacks=[tf.keras.callbacks.EarlyStopping(patience=10, monitor='val_loss')])"
      ],
      "metadata": {
        "id": "48beqVk9LXuZ"
      },
      "execution_count": null,
      "outputs": []
    },
    {
      "cell_type": "code",
      "source": [
        "y_hat = model.predict(X_test_feature_important)"
      ],
      "metadata": {
        "id": "3iMX1Wbhrmgg"
      },
      "execution_count": null,
      "outputs": []
    },
    {
      "cell_type": "code",
      "source": [
        "index = np.argmax(y_hat, axis=1)"
      ],
      "metadata": {
        "id": "mDIeYb_RsZJ0"
      },
      "execution_count": null,
      "outputs": []
    },
    {
      "cell_type": "code",
      "source": [
        "preds = pd.DataFrame()\n",
        "preds = target_label.inverse_transform(index)"
      ],
      "metadata": {
        "id": "AMBJJ6uksitC"
      },
      "execution_count": null,
      "outputs": []
    },
    {
      "cell_type": "code",
      "source": [
        "get_clf_eval(y_test, preds)"
      ],
      "metadata": {
        "id": "XTbbvpBZstHY"
      },
      "execution_count": null,
      "outputs": []
    },
    {
      "cell_type": "markdown",
      "source": [
        "## 딥러닝 다중분류모델을 이용해서 풀어보자"
      ],
      "metadata": {
        "id": "UYrFJ_ClOx1x"
      }
    },
    {
      "cell_type": "code",
      "source": [
        "import keras\n",
        "from keras.models import Sequential\n",
        "from keras.layers import Dense, Dropout, Activation\n",
        "from keras.optimizers import SGD, Adam"
      ],
      "metadata": {
        "id": "A3BXM1gX_IMm"
      },
      "execution_count": null,
      "outputs": []
    },
    {
      "cell_type": "markdown",
      "source": [
        "### Dropout를 이용한 다중분류모델\n",
        "- F1 score : 0.982\n"
      ],
      "metadata": {
        "id": "9pK1jnzvCxmG"
      }
    },
    {
      "cell_type": "code",
      "source": [
        "dna_model = Sequential()\n",
        "dna_model.add(Dense(64, activation='relu', input_dim=X_train_scaled.shape[1]))\n",
        "dna_model.add(Dropout(0.5))\n",
        "dna_model.add(Dense(192, activation='relu'))\n",
        "dna_model.add(Dropout(0.5))\n",
        "dna_model.add(Dense(192, activation='relu'))\n",
        "dna_model.add(Dropout(0.5))\n",
        "dna_model.add(Dense(192, activation='relu'))\n",
        "dna_model.add(Dropout(0.5))\n",
        "dna_model.add(Dense(3, activation='softmax'))\n",
        "\n",
        "#sgd = SGD(lr=0.01, decay=1e-6, momentum=0.9, nesterov=True)\n",
        "dna_model.compile(loss='categorical_crossentropy',\n",
        "              optimizer=Adam(learning_rate=0.01),\n",
        "              metrics=['accuracy',precision, recall, f1score])\n",
        "\n",
        "dna_model.summary()"
      ],
      "metadata": {
        "id": "SE-0NbFl9Nl0"
      },
      "execution_count": null,
      "outputs": []
    },
    {
      "cell_type": "code",
      "source": [
        "hist = dna_model.fit(X_train_scaled, y_train_scaled, epochs=500, batch_size=100, validation_split=0.25, callbacks=[tf.keras.callbacks.EarlyStopping(patience=50, monitor='val_f1score')])"
      ],
      "metadata": {
        "id": "VqqMDlBhAmnz"
      },
      "execution_count": null,
      "outputs": []
    },
    {
      "cell_type": "code",
      "source": [
        "# pca로 변환한 열을 이용해 학습\n",
        "hist = dna_model.fit(X_train_pca, y_train_scaled, epochs=500, batch_size=100, validation_split=0.25, callbacks=[tf.keras.callbacks.EarlyStopping(patience=50, monitor='val_f1score')])"
      ],
      "metadata": {
        "id": "I8gG9gqrJRSP"
      },
      "execution_count": null,
      "outputs": []
    },
    {
      "cell_type": "code",
      "source": [
        "y_hat = dna_model.predict(X_test_scaled)"
      ],
      "metadata": {
        "id": "3S7Hl46lCfFv"
      },
      "execution_count": null,
      "outputs": []
    },
    {
      "cell_type": "code",
      "source": [
        "#pca 변환된 행을 학습\n",
        "y_hat = dna_model.predict(X_test_pca)"
      ],
      "metadata": {
        "id": "BZG2TQCkJm5V"
      },
      "execution_count": null,
      "outputs": []
    },
    {
      "cell_type": "code",
      "source": [
        "index = np.argmax(y_hat, axis=1)\n",
        "dna_pred = pd.DataFrame()\n",
        "dna_pred = target_label.inverse_transform(index)"
      ],
      "metadata": {
        "id": "Ds8RY4vcCjAB"
      },
      "execution_count": null,
      "outputs": []
    },
    {
      "cell_type": "code",
      "source": [
        "get_clf_eval(y_test, dna_pred)"
      ],
      "metadata": {
        "id": "xSV3En_FCm8W"
      },
      "execution_count": null,
      "outputs": []
    },
    {
      "cell_type": "markdown",
      "source": [
        "- 시각화"
      ],
      "metadata": {
        "id": "6nHfA3NVRwYl"
      }
    },
    {
      "cell_type": "code",
      "source": [
        "loss = hist.history['loss']\n",
        "val_loss = hist.history['val_loss']\n",
        "epochs = range(1, len(loss) + 1)\n",
        "plt.plot(epochs, loss, \"x\", label = \"Training loss\")\n",
        "plt.plot(epochs, val_loss, \"b\", label = \"Validation loss\")\n",
        "plt.xlabel(\"Epochs\")\n",
        "plt.ylabel(\"Loss\")\n",
        "plt.legend()"
      ],
      "metadata": {
        "id": "z0V1ZFJyRydJ"
      },
      "execution_count": null,
      "outputs": []
    },
    {
      "cell_type": "markdown",
      "source": [
        "### Adam을 이용한 다중분류모델\n",
        "- F1 score : 0.94"
      ],
      "metadata": {
        "id": "59nQdOvrC8Lu"
      }
    },
    {
      "cell_type": "code",
      "source": [
        "adam_model = Sequential()\n",
        "adam_model.add(Dense(64, activation='relu', input_dim=X_train_scaled.shape[1]))\n",
        "adam_model.add(Dense(192, activation='relu'))\n",
        "adam_model.add(Dense(192, activation='relu'))\n",
        "adam_model.add(Dense(192, activation='relu'))\n",
        "adam_model.add(Dense(units=3, activation='softmax'))\n",
        "\n",
        "adam_model.compile(optimizer=tf.keras.optimizers.Adam(learning_rate=0.01),\n",
        "              loss='categorical_crossentropy', metrics=['accuracy', precision, recall, f1score])\n",
        "\n",
        "adam_model.summary()"
      ],
      "metadata": {
        "id": "xi5bnAMSejBT"
      },
      "execution_count": null,
      "outputs": []
    },
    {
      "cell_type": "code",
      "source": [
        "hist = adam_model.fit(X_train_scaled, y_train_scaled, epochs=500, batch_size=100, validation_split=0.25, callbacks=[tf.keras.callbacks.EarlyStopping(patience=50, monitor='val_f1score')])"
      ],
      "metadata": {
        "id": "NNGMxNyAe0A9"
      },
      "execution_count": null,
      "outputs": []
    },
    {
      "cell_type": "code",
      "source": [
        "y_hat = adam_model.predict(X_test_scaled)"
      ],
      "metadata": {
        "id": "tjAVmygBe8A9"
      },
      "execution_count": null,
      "outputs": []
    },
    {
      "cell_type": "code",
      "source": [
        "index = np.argmax(y_hat, axis=1)"
      ],
      "metadata": {
        "id": "IZJuCeYve_bb"
      },
      "execution_count": null,
      "outputs": []
    },
    {
      "cell_type": "code",
      "source": [
        "preds = pd.DataFrame()\n",
        "preds = target_label.inverse_transform(index)"
      ],
      "metadata": {
        "id": "LVtSzqGPfDa0"
      },
      "execution_count": null,
      "outputs": []
    },
    {
      "cell_type": "code",
      "source": [
        "get_clf_eval(y_test, preds)"
      ],
      "metadata": {
        "id": "P6oKD1aHfEhW"
      },
      "execution_count": null,
      "outputs": []
    },
    {
      "cell_type": "code",
      "source": [
        "loss = hist.history['loss']\n",
        "val_loss = hist.history['val_loss']\n",
        "epochs = range(1, len(loss) + 1)\n",
        "plt.plot(epochs, loss, \"x\", label = \"Training loss\")\n",
        "plt.plot(epochs, val_loss, \"b\", label = \"Validation loss\")\n",
        "plt.xlabel(\"Epochs\")\n",
        "plt.ylabel(\"Loss\")\n",
        "plt.legend()"
      ],
      "metadata": {
        "id": "YarKbwt-5qrY"
      },
      "execution_count": null,
      "outputs": []
    },
    {
      "cell_type": "markdown",
      "source": [
        "## 드롭아웃을 적용시켜 아주 깊은 딥러닝 모델을 만들어보자\n",
        "- 드롭아웃층을 적용했다\n",
        "- 깊은 모델일 때 relu보다 좀더 미분값 소실이 적다는 swish함수를 사용했다"
      ],
      "metadata": {
        "id": "vg20qkLyZh1L"
      }
    },
    {
      "cell_type": "code",
      "source": [
        "model1 = tf.keras.Sequential([\n",
        "                             tf.keras.layers.Dense(units=1050, activation='swish', input_dim=X_train_scaled.shape[1]),\n",
        "                             tf.keras.layers.Dense(units=100, activation='swish'),\n",
        "                             tf.keras.layers.Dropout(0.2), \n",
        "                             tf.keras.layers.Dense(units=100, activation='swish'),\n",
        "                             tf.keras.layers.Dropout(0.2), \n",
        "                             tf.keras.layers.Dense(units=100, activation='swish'),\n",
        "                             tf.keras.layers.Dropout(0.2), \n",
        "                             tf.keras.layers.Dense(units=100, activation='swish'),\n",
        "                             tf.keras.layers.Dropout(0.2), \n",
        "                             tf.keras.layers.Dense(units=100, activation='swish'),\n",
        "                             tf.keras.layers.Dropout(0.2), \n",
        "                             tf.keras.layers.Dense(units=100, activation='swish'),\n",
        "                             tf.keras.layers.Dense(units=3, activation='softmax')\n",
        "])\n",
        "\n",
        "model1.compile(optimizer=tf.keras.optimizers.Adam(learning_rate=0.07),\n",
        "              loss='categorical_crossentropy', metrics=['accuracy', precision, recall, f1score])\n",
        "\n",
        "model1.summary()"
      ],
      "metadata": {
        "id": "rEJazXEmLIO7"
      },
      "execution_count": null,
      "outputs": []
    },
    {
      "cell_type": "code",
      "source": [
        "history = model1.fit(X_train_scaled, y_train, epochs=1000, batch_size=32, validation_split=0.25, callbacks=[tf.keras.callbacks.EarlyStopping(patience=10, monitor='val_loss')])"
      ],
      "metadata": {
        "id": "hKAt7tLxLIaO"
      },
      "execution_count": null,
      "outputs": []
    },
    {
      "cell_type": "code",
      "source": [
        "y_hat1 = model1.predict(X_test_scaled)"
      ],
      "metadata": {
        "id": "gqSvwWPcLIdQ"
      },
      "execution_count": null,
      "outputs": []
    },
    {
      "cell_type": "code",
      "source": [
        "index1 = np.argmax(y_hat1, axis=1)"
      ],
      "metadata": {
        "id": "gGwzWdKPLffp"
      },
      "execution_count": null,
      "outputs": []
    },
    {
      "cell_type": "code",
      "source": [
        "preds1 = pd.DataFrame()\n",
        "preds1 = target_label.inverse_transform(index1)"
      ],
      "metadata": {
        "id": "zX81YhcfLIgD"
      },
      "execution_count": null,
      "outputs": []
    },
    {
      "cell_type": "code",
      "source": [
        "get_clf_eval(y_test, preds1)"
      ],
      "metadata": {
        "id": "dNaTZwSSLcJ0"
      },
      "execution_count": null,
      "outputs": []
    },
    {
      "cell_type": "markdown",
      "source": [
        "- 어째 결과가 더 안좋게 나오네...\n"
      ],
      "metadata": {
        "id": "cP-qhS-mZ-w8"
      }
    },
    {
      "cell_type": "markdown",
      "source": [
        " # 제출용 데이터"
      ],
      "metadata": {
        "id": "u5sVzUj_03t0"
      }
    },
    {
      "cell_type": "markdown",
      "source": [
        "### 데이터준비"
      ],
      "metadata": {
        "id": "CSQgEtza5sww"
      }
    },
    {
      "cell_type": "code",
      "source": [
        "path = '/content/drive/MyDrive/Colab Notebooks/[DACON]유전체정보_품좀_분류_AI_경진대회/data'\n",
        "os.chdir(path)\n",
        "train = pd.read_csv(\"train.csv\", encoding='utf-8-sig', error_bad_lines=False)"
      ],
      "metadata": {
        "id": "fr3G3VBC2yxY"
      },
      "execution_count": null,
      "outputs": []
    },
    {
      "cell_type": "code",
      "source": [
        "path = '/content/drive/MyDrive/Colab Notebooks/[DACON]유전체정보_품좀_분류_AI_경진대회/data'\n",
        "os.chdir(path)\n",
        "test = pd.read_csv(\"test.csv\", encoding='utf-8-sig', error_bad_lines=False)"
      ],
      "metadata": {
        "id": "CxE6UKuz06W_"
      },
      "execution_count": null,
      "outputs": []
    },
    {
      "cell_type": "markdown",
      "source": [
        "### 데이터 전처리"
      ],
      "metadata": {
        "id": "llu6S-uq5oVt"
      }
    },
    {
      "cell_type": "code",
      "source": [
        "train_data = train.drop(['id', 'father', 'mother', 'gender', 'trait','class'], axis = 1)\n",
        "test_data = test.drop(['id', 'father', 'mother', 'gender', 'trait'], axis = 1)"
      ],
      "metadata": {
        "id": "fUmfWZbl2ZJr"
      },
      "execution_count": null,
      "outputs": []
    },
    {
      "cell_type": "code",
      "source": [
        "test_data"
      ],
      "metadata": {
        "id": "lbIOwekh2jfB"
      },
      "execution_count": null,
      "outputs": []
    },
    {
      "cell_type": "code",
      "source": [
        "X_train = train_data\n",
        "X_test = test_data\n",
        "y_train  = train['class']\n",
        "#이건 예측해야하는 값\n",
        "#y_test"
      ],
      "metadata": {
        "id": "nVyZ6pWI2kF4"
      },
      "execution_count": null,
      "outputs": []
    },
    {
      "cell_type": "code",
      "source": [
        "#먼저 라벨 인코더\n",
        "target_label = preprocessing.LabelEncoder()\n",
        "y_train_scaled_ = target_label.fit_transform(y_train)"
      ],
      "metadata": {
        "id": "WP5B3kd74uZn"
      },
      "execution_count": null,
      "outputs": []
    },
    {
      "cell_type": "code",
      "source": [
        "#원핫인코더(딥러닝용)\n",
        "from keras.utils import np_utils\n",
        "y_train_scaled = np_utils.to_categorical(y_train_scaled_)"
      ],
      "metadata": {
        "id": "bkTOGxSv5DXM"
      },
      "execution_count": null,
      "outputs": []
    },
    {
      "cell_type": "code",
      "source": [
        "snp_1 =  preprocessing.LabelEncoder()\n",
        "snp_2 =  preprocessing.LabelEncoder()\n",
        "snp_3 =  preprocessing.LabelEncoder()\n",
        "snp_4 =  preprocessing.LabelEncoder()\n",
        "snp_5 =  preprocessing.LabelEncoder()\n",
        "snp_6 =  preprocessing.LabelEncoder()\n",
        "snp_7 =  preprocessing.LabelEncoder()\n",
        "snp_8 =  preprocessing.LabelEncoder()\n",
        "snp_9 =  preprocessing.LabelEncoder()\n",
        "snp_10 =  preprocessing.LabelEncoder()\n",
        "snp_11 =  preprocessing.LabelEncoder()\n",
        "snp_12 =  preprocessing.LabelEncoder()\n",
        "snp_13 =  preprocessing.LabelEncoder()\n",
        "snp_14 =  preprocessing.LabelEncoder()\n",
        "snp_15 =  preprocessing.LabelEncoder()"
      ],
      "metadata": {
        "id": "ZLmaJ-ob5ICw"
      },
      "execution_count": null,
      "outputs": []
    },
    {
      "cell_type": "code",
      "source": [
        "snp_1.fit(data['SNP_01'])\n",
        "snp_2.fit(data['SNP_02'])\n",
        "snp_3.fit(data['SNP_03'])\n",
        "snp_4.fit(data['SNP_04'])\n",
        "snp_5.fit(data['SNP_05'])\n",
        "snp_6.fit(data['SNP_06'])\n",
        "snp_7.fit(data['SNP_07'])\n",
        "snp_8.fit(data['SNP_08'])\n",
        "snp_9.fit(data['SNP_09'])\n",
        "snp_10.fit(data['SNP_10'])\n",
        "snp_11.fit(data['SNP_11'])\n",
        "snp_12.fit(data['SNP_12'])\n",
        "snp_13.fit(data['SNP_13'])\n",
        "snp_14.fit(data['SNP_14'])\n",
        "snp_15.fit(data['SNP_15'])"
      ],
      "metadata": {
        "id": "icRp0V8u5M2T"
      },
      "execution_count": null,
      "outputs": []
    },
    {
      "cell_type": "code",
      "source": [
        "X_train['SNP_01'] = snp_1.transform(X_train['SNP_01'])\n",
        "X_train['SNP_02'] = snp_2.transform(X_train['SNP_02'])\n",
        "X_train['SNP_03'] = snp_3.transform(X_train['SNP_03'])\n",
        "X_train['SNP_04'] = snp_4.transform(X_train['SNP_04'])\n",
        "X_train['SNP_05'] = snp_5.transform(X_train['SNP_05'])\n",
        "X_train['SNP_06'] = snp_6.transform(X_train['SNP_06'])\n",
        "X_train['SNP_07'] = snp_7.transform(X_train['SNP_07'])\n",
        "X_train['SNP_08'] = snp_8.transform(X_train['SNP_08'])\n",
        "X_train['SNP_09'] = snp_9.transform(X_train['SNP_09'])\n",
        "X_train['SNP_10'] = snp_10.transform(X_train['SNP_10'])\n",
        "X_train['SNP_11'] = snp_11.transform(X_train['SNP_11'])\n",
        "X_train['SNP_12'] = snp_12.transform(X_train['SNP_12'])\n",
        "X_train['SNP_13'] = snp_13.transform(X_train['SNP_13'])\n",
        "X_train['SNP_14'] = snp_14.transform(X_train['SNP_14'])\n",
        "X_train['SNP_15'] = snp_15.transform(X_train['SNP_15'])"
      ],
      "metadata": {
        "id": "VkDTk1Fh5Pjj"
      },
      "execution_count": null,
      "outputs": []
    },
    {
      "cell_type": "code",
      "source": [
        "X_test['SNP_01'] = snp_1.transform(X_test['SNP_01'])\n",
        "X_test['SNP_02'] = snp_2.transform(X_test['SNP_02'])\n",
        "X_test['SNP_03'] = snp_3.transform(X_test['SNP_03'])\n",
        "X_test['SNP_04'] = snp_4.transform(X_test['SNP_04'])\n",
        "X_test['SNP_05'] = snp_5.transform(X_test['SNP_05'])\n",
        "X_test['SNP_06'] = snp_6.transform(X_test['SNP_06'])\n",
        "X_test['SNP_07'] = snp_7.transform(X_test['SNP_07'])\n",
        "X_test['SNP_08'] = snp_8.transform(X_test['SNP_08'])\n",
        "X_test['SNP_09'] = snp_9.transform(X_test['SNP_09'])\n",
        "X_test['SNP_10'] = snp_10.transform(X_test['SNP_10'])\n",
        "X_test['SNP_11'] = snp_11.transform(X_test['SNP_11'])\n",
        "X_test['SNP_12'] = snp_12.transform(X_test['SNP_12'])\n",
        "X_test['SNP_13'] = snp_13.transform(X_test['SNP_13'])\n",
        "X_test['SNP_14'] = snp_14.transform(X_test['SNP_14'])\n",
        "X_test['SNP_15'] = snp_15.transform(X_test['SNP_15'])"
      ],
      "metadata": {
        "id": "IsVi3jLT5Uhu"
      },
      "execution_count": null,
      "outputs": []
    },
    {
      "cell_type": "code",
      "source": [
        "scaler = preprocessing.MinMaxScaler()\n",
        "scaler.fit(X_train)\n",
        "X_train_scaled_ = scaler.transform(X_train)\n",
        "X_test_scaled_ = scaler.transform(X_test)"
      ],
      "metadata": {
        "id": "5CqvB9Rf5Zft"
      },
      "execution_count": null,
      "outputs": []
    },
    {
      "cell_type": "code",
      "source": [
        "X_train_scaled = pd.DataFrame(X_train_scaled_, columns=X_train.columns, index=X_train.index)\n",
        "X_test_scaled = pd.DataFrame(X_test_scaled_, columns=X_test.columns, index=X_test.index)"
      ],
      "metadata": {
        "id": "KNbAno1U5dxu"
      },
      "execution_count": null,
      "outputs": []
    },
    {
      "cell_type": "markdown",
      "source": [
        "### pca로 변환을 한 다음 분류기에 넣으면 더 잘 예측함"
      ],
      "metadata": {
        "id": "LmwOJq5vJ_Yk"
      }
    },
    {
      "cell_type": "code",
      "source": [
        "from sklearn.decomposition import PCA\n",
        "\n",
        "pca = PCA()\n",
        "X_train_pca = pca.fit_transform(X_train_scaled)\n",
        "X_test_pca = pca.transform(X_test_scaled)"
      ],
      "metadata": {
        "id": "8auxDoSKKDJD"
      },
      "execution_count": null,
      "outputs": []
    },
    {
      "cell_type": "code",
      "source": [
        "X_train_scaled.shape, X_test_scaled.shape, y_train_scaled_.shape"
      ],
      "metadata": {
        "id": "7WFnwAc65hxa"
      },
      "execution_count": null,
      "outputs": []
    },
    {
      "cell_type": "code",
      "source": [
        "X_train_pca.shape, X_test_pca.shape"
      ],
      "metadata": {
        "id": "qtjMPCCrKVjj"
      },
      "execution_count": null,
      "outputs": []
    },
    {
      "cell_type": "markdown",
      "source": [
        "### SVM을 이용한 예측\n",
        "- 결과 : 0.97191으로 315등!"
      ],
      "metadata": {
        "id": "YBHFcBy35x0z"
      }
    },
    {
      "cell_type": "code",
      "source": [
        "from sklearn.svm import LinearSVC\n",
        "\n",
        "svm = LinearSVC(C= 39.19597292168656, max_iter = 2302)\n",
        "svm.fit(X_train_pca, y_train_scaled_)\n",
        "svm_pred_scaled_ = svm.predict(X_test_pca)"
      ],
      "metadata": {
        "id": "_wMDs8_25j83"
      },
      "execution_count": null,
      "outputs": []
    },
    {
      "cell_type": "code",
      "source": [
        "svm_opt_pred = target_label.inverse_transform(svm_pred_scaled_)"
      ],
      "metadata": {
        "id": "n73VhgQi67Dv"
      },
      "execution_count": null,
      "outputs": []
    },
    {
      "cell_type": "code",
      "source": [
        "test_id = test['id']\n",
        "submission = pd.DataFrame(test_id, columns=['id'], index=X_test.index)\n",
        "submission['class'] = svm_opt_pred\n",
        "submission"
      ],
      "metadata": {
        "id": "q1fys8Lv7H3P"
      },
      "execution_count": null,
      "outputs": []
    },
    {
      "cell_type": "code",
      "source": [
        "path = '/content/drive/MyDrive/Colab Notebooks/[DACON]유전체정보_품좀_분류_AI_경진대회/submit'\n",
        "os.chdir(path)\n",
        "submission.to_csv(\"20230116_svm.csv\", index = False)"
      ],
      "metadata": {
        "id": "X_S9PYRq9U1z"
      },
      "execution_count": null,
      "outputs": []
    },
    {
      "cell_type": "markdown",
      "source": [
        "### GBM 을 이용한 예측"
      ],
      "metadata": {
        "id": "r01CzhLMGc6L"
      }
    },
    {
      "cell_type": "code",
      "source": [
        "from sklearn.ensemble import GradientBoostingClassifier\n",
        "\n",
        "gb_clf = GradientBoostingClassifier(learning_rate = 0.05614690123495918, min_samples_split = 3, n_estimators = 300)\n",
        "gb_clf.fit(X_train_pca, y_train_scaled_)\n",
        "gb_pred_scaled_ = gb_clf.predict(X_test_pca)"
      ],
      "metadata": {
        "id": "fRHKZidQGdc0"
      },
      "execution_count": null,
      "outputs": []
    },
    {
      "cell_type": "code",
      "source": [
        "gb_pred = target_label.inverse_transform(gb_pred_scaled_)"
      ],
      "metadata": {
        "id": "yGzX3QPnJ4f4"
      },
      "execution_count": null,
      "outputs": []
    },
    {
      "cell_type": "code",
      "source": [
        "est_id = test['id']\n",
        "submission = pd.DataFrame(test_id, columns=['id'], index=X_test.index)\n",
        "submission['class'] = gb_pred\n",
        "submission"
      ],
      "metadata": {
        "id": "Y6e7bFJEJ9tI"
      },
      "execution_count": null,
      "outputs": []
    },
    {
      "cell_type": "code",
      "source": [
        "path = '/content/drive/MyDrive/Colab Notebooks/[DACON]유전체정보_품좀_분류_AI_경진대회/submit'\n",
        "os.chdir(path)\n",
        "submission.to_csv(\"20230116_gb.csv\", index = False)"
      ],
      "metadata": {
        "id": "Apvh1BFpKCfz"
      },
      "execution_count": null,
      "outputs": []
    },
    {
      "cell_type": "markdown",
      "source": [
        "### Dropout을 적용한 DL모델"
      ],
      "metadata": {
        "id": "nS391rWIDyyU"
      }
    },
    {
      "cell_type": "code",
      "source": [
        "dna_model = Sequential()\n",
        "dna_model.add(Dense(64, activation='relu', input_dim=X_train_scaled.shape[1]))\n",
        "dna_model.add(Dropout(0.5))\n",
        "dna_model.add(Dense(192, activation='relu'))\n",
        "dna_model.add(Dropout(0.5))\n",
        "dna_model.add(Dense(192, activation='relu'))\n",
        "dna_model.add(Dropout(0.5))\n",
        "dna_model.add(Dense(192, activation='relu'))\n",
        "dna_model.add(Dropout(0.5))\n",
        "dna_model.add(Dense(3, activation='softmax'))\n",
        "\n",
        "dna_model.compile(loss='categorical_crossentropy',\n",
        "              optimizer=Adam(learning_rate=0.01),\n",
        "              metrics=['accuracy',precision, recall, f1score])\n",
        "\n",
        "dna_model.summary()"
      ],
      "metadata": {
        "id": "NjtPZfdY_NBt"
      },
      "execution_count": null,
      "outputs": []
    },
    {
      "cell_type": "code",
      "source": [
        "hist = dna_model.fit(X_train_pca, y_train_scaled, epochs=500, batch_size=100, validation_split=0.25, callbacks=[tf.keras.callbacks.EarlyStopping(patience=50, monitor='val_f1score')])"
      ],
      "metadata": {
        "id": "8htc34DJD8DR"
      },
      "execution_count": null,
      "outputs": []
    },
    {
      "cell_type": "code",
      "source": [
        "loss = hist.history['loss']\n",
        "val_loss = hist.history['val_loss']\n",
        "epochs = range(1, len(loss) + 1)\n",
        "plt.plot(epochs, loss, \"x\", label = \"Training loss\")\n",
        "plt.plot(epochs, val_loss, \"b\", label = \"Validation loss\")\n",
        "plt.xlabel(\"Epochs\")\n",
        "plt.ylabel(\"Loss\")\n",
        "plt.legend()"
      ],
      "metadata": {
        "id": "NIgQbu0rEVy8"
      },
      "execution_count": null,
      "outputs": []
    },
    {
      "cell_type": "code",
      "source": [
        "y_hat = dna_model.predict(X_test_pca)"
      ],
      "metadata": {
        "id": "U9F41BDoEN_D"
      },
      "execution_count": null,
      "outputs": []
    },
    {
      "cell_type": "code",
      "source": [
        "index = np.argmax(y_hat, axis=1)\n",
        "dna_pred = pd.DataFrame()\n",
        "dna_pred = target_label.inverse_transform(index)"
      ],
      "metadata": {
        "id": "O1lIcQqlEOc9"
      },
      "execution_count": null,
      "outputs": []
    },
    {
      "cell_type": "code",
      "source": [
        "test_id = test['id']\n",
        "submission = pd.DataFrame(test_id, columns=['id'], index=X_test.index)\n",
        "submission['class'] = dna_pred\n",
        "submission"
      ],
      "metadata": {
        "id": "IhaZ_K0zEUoX"
      },
      "execution_count": null,
      "outputs": []
    },
    {
      "cell_type": "code",
      "source": [
        "path = '/content/drive/MyDrive/Colab Notebooks/[DACON]유전체정보_품좀_분류_AI_경진대회/submit'\n",
        "os.chdir(path)\n",
        "submission.to_csv(\"20230116_dropoutDL.csv\", index = False)"
      ],
      "metadata": {
        "id": "jJMH0UVrEjHi"
      },
      "execution_count": null,
      "outputs": []
    },
    {
      "cell_type": "code",
      "source": [],
      "metadata": {
        "id": "1qpXFPeiEqbz"
      },
      "execution_count": null,
      "outputs": []
    }
  ]
}